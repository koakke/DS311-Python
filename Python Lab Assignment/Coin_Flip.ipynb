{
 "cells": [
  {
   "cell_type": "code",
   "execution_count": 7,
   "id": "beabaf22",
   "metadata": {},
   "outputs": [],
   "source": [
    "import random\n",
    "import numpy as np\n"
   ]
  },
  {
   "cell_type": "code",
   "execution_count": null,
   "id": "20c4b5d1",
   "metadata": {},
   "outputs": [],
   "source": [
    "    #simulate a coin flip()\n",
    "    #Returns:\n",
    "    #  str: [\"heads\" or \"tails\"]\n",
    "def coin():\n",
    "    x=random.choice([\"Head\",\"Tail\"])\n",
    "    return x"
   ]
  },
  {
   "cell_type": "code",
   "execution_count": 10,
   "id": "0638a64a",
   "metadata": {},
   "outputs": [],
   "source": [
    "#Simulate 10 coin flips\n",
    "#Returns:\n",
    "#       [list or string]: [lst should contains heads or tails]\n",
    "\n",
    "def coin_10flips_1(probability):\n",
    "    x=[]\n",
    "    for i in range (len(probability)):\n",
    "        if probability[i] >=0.5:\n",
    "            x.append(\"Head\")\n",
    "        else:\n",
    "            x.append(\"Tail\")\n",
    "    return x"
   ]
  },
  {
   "cell_type": "code",
   "execution_count": 11,
   "id": "5ef9605a",
   "metadata": {},
   "outputs": [],
   "source": [
    "#[The second way to flip a coin for 10 times]\n",
    "\n",
    "def coin_10flips_2(numberoftrial):\n",
    "    x=str()\n",
    "    for i in range(1,numberoftrial):\n",
    "       x+=str(coin()+\", \")\n",
    "    return x"
   ]
  },
  {
   "cell_type": "code",
   "execution_count": 12,
   "id": "4ed40990",
   "metadata": {},
   "outputs": [],
   "source": [
    "#count how many times the coin is HEAD and how many times the coin is TAIL\n",
    "#    Args:\n",
    "#        n (int): Number of times the coin is going to flipped\n",
    "#   Returns:\n",
    "#       Tuple : (heads, tails)\n",
    "\n",
    "def count_head(n):\n",
    "    number_head=0\n",
    "    number_tail=0\n",
    "    checking=coin_10flips_1(np.random.uniform(low=0,high=1,size =n))\n",
    "    for i in range (n):\n",
    "        if checking[i]==\"Head\":\n",
    "            number_head=number_head+1\n",
    "        else:\n",
    "            number_tail=number_tail+1\n",
    "    print(f\"number of Head is {number_head}\",f\"number of Tail is {number_tail}\")\n",
    "    return (number_head,number_tail)\n",
    "\n"
   ]
  },
  {
   "cell_type": "code",
   "execution_count": 13,
   "id": "0935b8d8",
   "metadata": {},
   "outputs": [],
   "source": [
    "#this function counts how many times you have flipped and tells you how many times the results has 10 heads, and how many tails correspondingly.\n",
    "\n",
    "def tenhead():\n",
    "    count=0\n",
    "    heads=0\n",
    "    tails=0\n",
    "    while heads<10:\n",
    "        testing=coin()\n",
    "        if testing==\"Head\":\n",
    "            heads=heads+1\n",
    "            count=count+1\n",
    "        else:\n",
    "            tails=tails+1\n",
    "            count=count+1\n",
    "    print(f\"We have to flip a coin {count} times to get 10 head\")\n",
    "    return (count,heads,tails)\n",
    "\n"
   ]
  },
  {
   "cell_type": "code",
   "execution_count": 14,
   "id": "e2026bee",
   "metadata": {},
   "outputs": [],
   "source": [
    "#To get N streaks of head in a row.\n",
    "#    How many tiems I need to flip this coin\n",
    "#    Args:\n",
    "#        n (int): Number of streaks\n",
    "#    Returns:\n",
    "#        int: How many times you need to flip this coin\n",
    "\n",
    "def hot_head_streak(n):\n",
    "    count=0\n",
    "    head=0\n",
    "    x=str()\n",
    "    while head < n:\n",
    "        testing=coin()\n",
    "        if testing ==\"Head\":\n",
    "            head=head+1\n",
    "            count=count+1\n",
    "            x+=str(testing+\", \")\n",
    "        else:\n",
    "            head=0\n",
    "            count=count+1\n",
    "            x+=str(testing+\", \")\n",
    "    print(x)\n",
    "    return count\n",
    "\n"
   ]
  },
  {
   "cell_type": "code",
   "execution_count": 15,
   "id": "0582a931",
   "metadata": {},
   "outputs": [],
   "source": [
    "#How many times I need to flip to get N streaks of either head of tails\n",
    "#    Args:\n",
    "#        n (int): Number of you streaks desired\n",
    "#    Returns:\n",
    "#        int: How many flips\n",
    "\n",
    "def hot_streak(n):\n",
    "    count=0\n",
    "    head=0\n",
    "    tail=0\n",
    "    x=str()\n",
    "    while (head < n and tail < n):\n",
    "        testing=coin()\n",
    "        if testing ==\"Head\":\n",
    "            tail=0\n",
    "            head=head+1\n",
    "            count=count+1\n",
    "            x+=str(testing+ \", \")\n",
    "        else:\n",
    "            head=0\n",
    "            count=count+1\n",
    "            tail=tail+1\n",
    "            x+=str(testing+ \", \")\n",
    "    print(x)\n",
    "    return(count)"
   ]
  }
 ],
 "metadata": {
  "kernelspec": {
   "display_name": "Python 3 (ipykernel)",
   "language": "python",
   "name": "python3"
  },
  "language_info": {
   "codemirror_mode": {
    "name": "ipython",
    "version": 3
   },
   "file_extension": ".py",
   "mimetype": "text/x-python",
   "name": "python",
   "nbconvert_exporter": "python",
   "pygments_lexer": "ipython3",
   "version": "3.9.12"
  }
 },
 "nbformat": 4,
 "nbformat_minor": 5
}
