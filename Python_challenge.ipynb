{
 "cells": [
  {
   "cell_type": "markdown",
   "id": "38d1f5ba",
   "metadata": {},
   "source": [
    "\n",
    "1. Summation towards target\n",
    "If I have a list of integers, I want to find the combination that sums up to a target value k.\n",
    "\n",
    "Input -- \n",
    "\n",
    "    lst = [3,4,5,1,2], k = 9\n",
    "    \n",
    "Output -- \n",
    "\n",
    "    [1,2]\n",
    "    \n",
    "Explanation:\n",
    "\n",
    "    lst[1] = 4\n",
    "    \n",
    "    lst[5] = 5\n",
    "    \n",
    "    lst[1] + lst[5] = 9 = k\n",
    "\n",
    "\n"
   ]
  },
  {
   "cell_type": "code",
   "execution_count": 1,
   "id": "a06eb928",
   "metadata": {},
   "outputs": [],
   "source": [
    "def twosum(y,k):\n",
    "    x=[]\n",
    "    number = []\n",
    "    for i in range(len(y)):\n",
    "        for j in range(i+1,len(y)):\n",
    "            if y[i] + y[j] == k:\n",
    "                x=[i,j]\n",
    "                number =[y[i],y[j]]\n",
    "                print(f\"sum of {number} is {k}\")\n",
    "                return x"
   ]
  },
  {
   "cell_type": "code",
   "execution_count": 2,
   "id": "3fb8dcb3",
   "metadata": {},
   "outputs": [
    {
     "name": "stdout",
     "output_type": "stream",
     "text": [
      "sum of [4, 5] is 9\n"
     ]
    },
    {
     "data": {
      "text/plain": [
       "[1, 2]"
      ]
     },
     "execution_count": 2,
     "metadata": {},
     "output_type": "execute_result"
    }
   ],
   "source": [
    "twosum([3,4,5,1,2],k=9)"
   ]
  }
 ],
 "metadata": {
  "kernelspec": {
   "display_name": "Python 3 (ipykernel)",
   "language": "python",
   "name": "python3"
  },
  "language_info": {
   "codemirror_mode": {
    "name": "ipython",
    "version": 3
   },
   "file_extension": ".py",
   "mimetype": "text/x-python",
   "name": "python",
   "nbconvert_exporter": "python",
   "pygments_lexer": "ipython3",
   "version": "3.9.12"
  }
 },
 "nbformat": 4,
 "nbformat_minor": 5
}
