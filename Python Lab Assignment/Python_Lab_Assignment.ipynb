{
 "cells": [
  {
   "cell_type": "markdown",
   "metadata": {},
   "source": [
    "# PyCity Schools Analysis\n",
    "\n",
    "* As a whole, schools with higher budgets, did not yield better test results. By contrast, schools with higher spending per student actually (\\\\$645 - 675) underperformed compared to schools with smaller budgets (\\\\$585 per student).\n",
    "\n",
    "* As a whole, smaller and medium sized schools dramatically out-performed large sized schools on passing math performances (89-91% passing vs 67%).\n",
    "\n",
    "* As a whole, charter schools out-performed the public district schools across all metrics. However, more analysis will be required to glean if the effect is due to school practices or the fact that charter schools tend to serve smaller student populations per school. \n",
    "---"
   ]
  },
  {
   "cell_type": "markdown",
   "metadata": {},
   "source": [
    "**Note:**\n",
    "Instructions have been included for each segment. You do not have to follow them exactly, but they are included to help you think through the steps."
   ]
  },
  {
   "cell_type": "code",
   "execution_count": 2,
   "metadata": {
    "ExecuteTime": {
     "end_time": "2022-08-06T06:08:31.925112Z",
     "start_time": "2022-08-06T06:08:29.337754Z"
    }
   },
   "outputs": [
    {
     "data": {
      "text/html": [
       "<div>\n",
       "<style scoped>\n",
       "    .dataframe tbody tr th:only-of-type {\n",
       "        vertical-align: middle;\n",
       "    }\n",
       "\n",
       "    .dataframe tbody tr th {\n",
       "        vertical-align: top;\n",
       "    }\n",
       "\n",
       "    .dataframe thead th {\n",
       "        text-align: right;\n",
       "    }\n",
       "</style>\n",
       "<table border=\"1\" class=\"dataframe\">\n",
       "  <thead>\n",
       "    <tr style=\"text-align: right;\">\n",
       "      <th></th>\n",
       "      <th>Student ID</th>\n",
       "      <th>student_name</th>\n",
       "      <th>gender</th>\n",
       "      <th>grade</th>\n",
       "      <th>school_name</th>\n",
       "      <th>reading_score</th>\n",
       "      <th>math_score</th>\n",
       "      <th>School ID</th>\n",
       "      <th>type</th>\n",
       "      <th>size</th>\n",
       "      <th>budget</th>\n",
       "    </tr>\n",
       "  </thead>\n",
       "  <tbody>\n",
       "    <tr>\n",
       "      <th>0</th>\n",
       "      <td>0</td>\n",
       "      <td>Paul Bradley</td>\n",
       "      <td>M</td>\n",
       "      <td>9th</td>\n",
       "      <td>Huang High School</td>\n",
       "      <td>66</td>\n",
       "      <td>79</td>\n",
       "      <td>0</td>\n",
       "      <td>District</td>\n",
       "      <td>2917</td>\n",
       "      <td>1910635</td>\n",
       "    </tr>\n",
       "    <tr>\n",
       "      <th>1</th>\n",
       "      <td>1</td>\n",
       "      <td>Victor Smith</td>\n",
       "      <td>M</td>\n",
       "      <td>12th</td>\n",
       "      <td>Huang High School</td>\n",
       "      <td>94</td>\n",
       "      <td>61</td>\n",
       "      <td>0</td>\n",
       "      <td>District</td>\n",
       "      <td>2917</td>\n",
       "      <td>1910635</td>\n",
       "    </tr>\n",
       "    <tr>\n",
       "      <th>2</th>\n",
       "      <td>2</td>\n",
       "      <td>Kevin Rodriguez</td>\n",
       "      <td>M</td>\n",
       "      <td>12th</td>\n",
       "      <td>Huang High School</td>\n",
       "      <td>90</td>\n",
       "      <td>60</td>\n",
       "      <td>0</td>\n",
       "      <td>District</td>\n",
       "      <td>2917</td>\n",
       "      <td>1910635</td>\n",
       "    </tr>\n",
       "    <tr>\n",
       "      <th>3</th>\n",
       "      <td>3</td>\n",
       "      <td>Dr. Richard Scott</td>\n",
       "      <td>M</td>\n",
       "      <td>12th</td>\n",
       "      <td>Huang High School</td>\n",
       "      <td>67</td>\n",
       "      <td>58</td>\n",
       "      <td>0</td>\n",
       "      <td>District</td>\n",
       "      <td>2917</td>\n",
       "      <td>1910635</td>\n",
       "    </tr>\n",
       "    <tr>\n",
       "      <th>4</th>\n",
       "      <td>4</td>\n",
       "      <td>Bonnie Ray</td>\n",
       "      <td>F</td>\n",
       "      <td>9th</td>\n",
       "      <td>Huang High School</td>\n",
       "      <td>97</td>\n",
       "      <td>84</td>\n",
       "      <td>0</td>\n",
       "      <td>District</td>\n",
       "      <td>2917</td>\n",
       "      <td>1910635</td>\n",
       "    </tr>\n",
       "  </tbody>\n",
       "</table>\n",
       "</div>"
      ],
      "text/plain": [
       "   Student ID       student_name gender grade        school_name  \\\n",
       "0           0       Paul Bradley      M   9th  Huang High School   \n",
       "1           1       Victor Smith      M  12th  Huang High School   \n",
       "2           2    Kevin Rodriguez      M  12th  Huang High School   \n",
       "3           3  Dr. Richard Scott      M  12th  Huang High School   \n",
       "4           4         Bonnie Ray      F   9th  Huang High School   \n",
       "\n",
       "   reading_score  math_score  School ID      type  size   budget  \n",
       "0             66          79          0  District  2917  1910635  \n",
       "1             94          61          0  District  2917  1910635  \n",
       "2             90          60          0  District  2917  1910635  \n",
       "3             67          58          0  District  2917  1910635  \n",
       "4             97          84          0  District  2917  1910635  "
      ]
     },
     "execution_count": 2,
     "metadata": {},
     "output_type": "execute_result"
    }
   ],
   "source": [
    "# Dependencies and Setup\n",
    "import pandas as pd\n",
    "import numpy as np\n",
    "\n",
    "# File to Load (Remember to Change These)\n",
    "school_data_to_load = \"data/schools_complete.csv\"\n",
    "student_data_to_load = \"data/students_complete.csv\"\n",
    "\n",
    "# Read School and Student Data File and store into Pandas Data Frames\n",
    "school_data = pd.read_csv(school_data_to_load)\n",
    "student_data = pd.read_csv(student_data_to_load)\n",
    "\n",
    "# Combine the data into a single dataset\n",
    "school_data_complete = pd.merge(student_data, school_data, how=\"left\", on=[\"school_name\", \"school_name\"])\n",
    "school_data_complete.head()\n",
    "\n",
    "# school_data_complete.count()"
   ]
  },
  {
   "cell_type": "markdown",
   "metadata": {},
   "source": [
    "## District Summary\n",
    "\n",
    "* Calculate the total number of schools\n",
    "\n",
    "* Calculate the total number of students\n",
    "\n",
    "* Calculate the total budget\n",
    "\n",
    "* Calculate the average math score \n",
    "\n",
    "* Calculate the average reading score\n",
    "\n",
    "* Calculate the overall passing rate (overall average score), i.e. (avg. math score + avg. reading score)/2\n",
    "\n",
    "* Calculate the percentage of students with a passing math score (70 or greater)\n",
    "\n",
    "* Calculate the percentage of students with a passing reading score (70 or greater)\n",
    "\n",
    "* Create a dataframe to hold the above results\n",
    "\n",
    "* Optional: give the displayed data cleaner formatting"
   ]
  },
  {
   "cell_type": "markdown",
   "metadata": {},
   "source": [
    "## Create a District Summary"
   ]
  },
  {
   "cell_type": "code",
   "execution_count": 113,
   "metadata": {},
   "outputs": [
    {
     "data": {
      "text/plain": [
       "39170"
      ]
     },
     "execution_count": 113,
     "metadata": {},
     "output_type": "execute_result"
    }
   ],
   "source": [
    "# Total number of schools\n",
    "total_schools = school_data['school_name'].count()\n",
    "total_schools"
   ]
  },
  {
   "cell_type": "code",
   "execution_count": 81,
   "metadata": {},
   "outputs": [
    {
     "name": "stdout",
     "output_type": "stream",
     "text": [
      "There are 39170 in total\n"
     ]
    }
   ],
   "source": [
    "# Total number of students\n",
    "total_students = school_data_complete['Student ID'].count()\n",
    "print(f\"There are {total_students} in total\")"
   ]
  },
  {
   "cell_type": "code",
   "execution_count": 82,
   "metadata": {},
   "outputs": [
    {
     "name": "stdout",
     "output_type": "stream",
     "text": [
      "The total budget is $24649428\n"
     ]
    }
   ],
   "source": [
    "# Total budget\n",
    "total_budget = sum(school_data['budget'])\n",
    "print(f\"The total budget is ${total_budget}\")"
   ]
  },
  {
   "cell_type": "code",
   "execution_count": 83,
   "metadata": {},
   "outputs": [
    {
     "data": {
      "text/plain": [
       "78.98537145774827"
      ]
     },
     "execution_count": 83,
     "metadata": {},
     "output_type": "execute_result"
    }
   ],
   "source": [
    "#Average math score\n",
    "math_average=np.mean(school_data_complete['math_score'])\n",
    "math_average"
   ]
  },
  {
   "cell_type": "code",
   "execution_count": 84,
   "metadata": {},
   "outputs": [
    {
     "data": {
      "text/plain": [
       "81.87784018381414"
      ]
     },
     "execution_count": 84,
     "metadata": {},
     "output_type": "execute_result"
    }
   ],
   "source": [
    "# Average reading score\n",
    "reading_average=np.mean(school_data_complete['reading_score'])\n",
    "reading_average"
   ]
  },
  {
   "cell_type": "code",
   "execution_count": 85,
   "metadata": {},
   "outputs": [
    {
     "data": {
      "text/plain": [
       "80.43160582078121"
      ]
     },
     "execution_count": 85,
     "metadata": {},
     "output_type": "execute_result"
    }
   ],
   "source": [
    "# Overall average score\n",
    "overall_average =(reading_average + math_average)/2\n",
    "overall_average"
   ]
  },
  {
   "cell_type": "code",
   "execution_count": 86,
   "metadata": {},
   "outputs": [
    {
     "name": "stdout",
     "output_type": "stream",
     "text": [
      "The percentage of passing math is 74.9808526933878 %\n"
     ]
    }
   ],
   "source": [
    "# Percentage of passing math (70 or greater)\n",
    "math_pass=0\n",
    "for i in range(len(school_data_complete)):\n",
    "    if school_data_complete['math_score'][i] >=70:\n",
    "        math_pass=math_pass+1\n",
    "math_percentage=math_pass/len(school_data_complete)\n",
    "print(f\"The percentage of passing math is {100*math_percentage} %\")"
   ]
  },
  {
   "cell_type": "code",
   "execution_count": 87,
   "metadata": {},
   "outputs": [
    {
     "name": "stdout",
     "output_type": "stream",
     "text": [
      "The percentage of passing reading is 85.80546336482001 %\n"
     ]
    }
   ],
   "source": [
    "# Percentage of passing reading (70 or greater)\n",
    "reading_pass=0\n",
    "for i in range(len(school_data_complete)):\n",
    "    if school_data_complete['reading_score'][i] >=70:\n",
    "        reading_pass=reading_pass+1\n",
    "reading_percentage=reading_pass/len(school_data_complete)\n",
    "print(f\"The percentage of passing reading is {100*reading_percentage} %\")"
   ]
  },
  {
   "cell_type": "code",
   "execution_count": 103,
   "metadata": {},
   "outputs": [
    {
     "name": "stdout",
     "output_type": "stream",
     "text": [
      "         Average_score  Passing_percentage\n",
      "Math         78.985371            0.749809\n",
      "Reading      81.877840            0.858055\n"
     ]
    }
   ],
   "source": [
    "#load data into a DataFrame object:\n",
    "data = {\n",
    "    \"Average_score\": [math_average,reading_average],\n",
    "    \"Passing_percentage\" : [math_percentage,reading_percentage],\n",
    "}\n",
    "df = pd.DataFrame(data,index=[\"Math\",\"Reading\"])\n",
    "print(df) "
   ]
  },
  {
   "cell_type": "markdown",
   "metadata": {},
   "source": [
    "## School Summary"
   ]
  },
  {
   "cell_type": "markdown",
   "metadata": {},
   "source": [
    "* Create an overview table that summarizes key metrics about each school, including:\n",
    "  * School Name\n",
    "  * School Type\n",
    "  * Total Students\n",
    "  * Total School Budget\n",
    "  * Per Student Budget\n",
    "  * Average Math Score\n",
    "  * Average Reading Score\n",
    "  * % Passing Math\n",
    "  * % Passing Reading\n",
    "  * Overall Passing Rate (Average of the above two)\n",
    "  \n",
    "* Create a dataframe to hold the above results"
   ]
  },
  {
   "cell_type": "markdown",
   "metadata": {},
   "source": [
    "### Top Performing Schools (By Passing Rate)"
   ]
  },
  {
   "cell_type": "markdown",
   "metadata": {},
   "source": [
    "* Sort and display the top five schools in overall passing rate"
   ]
  },
  {
   "cell_type": "code",
   "execution_count": 176,
   "metadata": {},
   "outputs": [
    {
     "data": {
      "text/plain": [
       "school_name\n",
       "Huang High School        District\n",
       "Figueroa High School     District\n",
       "Shelton High School       Charter\n",
       "Hernandez High School    District\n",
       "Griffin High School       Charter\n",
       "Wilson High School        Charter\n",
       "Cabrera High School       Charter\n",
       "Bailey High School       District\n",
       "Holden High School        Charter\n",
       "Pena High School          Charter\n",
       "Wright High School        Charter\n",
       "Rodriguez High School    District\n",
       "Johnson High School      District\n",
       "Ford High School         District\n",
       "Thomas High School        Charter\n",
       "Name: type, dtype: object"
      ]
     },
     "execution_count": 176,
     "metadata": {},
     "output_type": "execute_result"
    }
   ],
   "source": [
    "#School Type\n",
    "school_type = school_data.set_index('school_name')['type']\n",
    "school_type"
   ]
  },
  {
   "cell_type": "code",
   "execution_count": 109,
   "metadata": {},
   "outputs": [
    {
     "data": {
      "text/plain": [
       "Bailey High School       4976\n",
       "Johnson High School      4761\n",
       "Hernandez High School    4635\n",
       "Rodriguez High School    3999\n",
       "Figueroa High School     2949\n",
       "Huang High School        2917\n",
       "Ford High School         2739\n",
       "Wilson High School       2283\n",
       "Cabrera High School      1858\n",
       "Wright High School       1800\n",
       "Shelton High School      1761\n",
       "Thomas High School       1635\n",
       "Griffin High School      1468\n",
       "Pena High School          962\n",
       "Holden High School        427\n",
       "Name: school_name, dtype: int64"
      ]
     },
     "execution_count": 109,
     "metadata": {},
     "output_type": "execute_result"
    }
   ],
   "source": [
    "#  School Name with Total Students\n",
    "student_per_school = school_data_complete['school_name'].value_counts()\n",
    "student_per_school"
   ]
  },
  {
   "cell_type": "code",
   "execution_count": 104,
   "metadata": {
    "scrolled": true
   },
   "outputs": [
    {
     "data": {
      "text/plain": [
       "school_name\n",
       "Bailey High School       3124928\n",
       "Johnson High School      3094650\n",
       "Hernandez High School    3022020\n",
       "Rodriguez High School    2547363\n",
       "Huang High School        1910635\n",
       "Figueroa High School     1884411\n",
       "Ford High School         1763916\n",
       "Wilson High School       1319574\n",
       "Cabrera High School      1081356\n",
       "Shelton High School      1056600\n",
       "Wright High School       1049400\n",
       "Thomas High School       1043130\n",
       "Griffin High School       917500\n",
       "Pena High School          585858\n",
       "Holden High School        248087\n",
       "Name: budget, dtype: int64"
      ]
     },
     "execution_count": 104,
     "metadata": {},
     "output_type": "execute_result"
    }
   ],
   "source": [
    "# Calculate total school budget\n",
    "budget_per_school = school_data.groupby('school_name')['budget'].sum()\n",
    "budget_per_school.sort_values(ascending = False)"
   ]
  },
  {
   "cell_type": "code",
   "execution_count": 111,
   "metadata": {},
   "outputs": [
    {
     "data": {
      "text/plain": [
       "Bailey High School       628.0\n",
       "Cabrera High School      582.0\n",
       "Figueroa High School     639.0\n",
       "Ford High School         644.0\n",
       "Griffin High School      625.0\n",
       "Hernandez High School    652.0\n",
       "Holden High School       581.0\n",
       "Huang High School        655.0\n",
       "Johnson High School      650.0\n",
       "Pena High School         609.0\n",
       "Rodriguez High School    637.0\n",
       "Shelton High School      600.0\n",
       "Thomas High School       638.0\n",
       "Wilson High School       578.0\n",
       "Wright High School       583.0\n",
       "dtype: float64"
      ]
     },
     "execution_count": 111,
     "metadata": {},
     "output_type": "execute_result"
    }
   ],
   "source": [
    "# Calculate per student budget\n",
    "per_student_budget=school_data.groupby('school_name')['budget'].sum()/school_data_complete['school_name'].value_counts()\n",
    "per_student_budget"
   ]
  },
  {
   "cell_type": "code",
   "execution_count": 169,
   "metadata": {},
   "outputs": [
    {
     "data": {
      "text/plain": [
       "school_name\n",
       "Pena High School         83.839917\n",
       "Holden High School       83.803279\n",
       "Wright High School       83.682222\n",
       "Thomas High School       83.418349\n",
       "Shelton High School      83.359455\n",
       "Griffin High School      83.351499\n",
       "Wilson High School       83.274201\n",
       "Cabrera High School      83.061895\n",
       "Hernandez High School    77.289752\n",
       "Ford High School         77.102592\n",
       "Johnson High School      77.072464\n",
       "Bailey High School       77.048432\n",
       "Rodriguez High School    76.842711\n",
       "Figueroa High School     76.711767\n",
       "Huang High School        76.629414\n",
       "Name: math_score, dtype: float64"
      ]
     },
     "execution_count": 169,
     "metadata": {},
     "output_type": "execute_result"
    }
   ],
   "source": [
    "# Cacluate the avg math and reading score\n",
    "#Average math score in each school\n",
    "school_math_average=school_data_complete.groupby('school_name')['math_score'].mean()\n",
    "school_math_average.sort_values(ascending = False)"
   ]
  },
  {
   "cell_type": "code",
   "execution_count": 170,
   "metadata": {},
   "outputs": [
    {
     "data": {
      "text/plain": [
       "school_name\n",
       "Pena High School         84.044699\n",
       "Wilson High School       83.989488\n",
       "Cabrera High School      83.975780\n",
       "Wright High School       83.955000\n",
       "Thomas High School       83.848930\n",
       "Griffin High School      83.816757\n",
       "Holden High School       83.814988\n",
       "Shelton High School      83.725724\n",
       "Huang High School        81.182722\n",
       "Figueroa High School     81.158020\n",
       "Bailey High School       81.033963\n",
       "Johnson High School      80.966394\n",
       "Hernandez High School    80.934412\n",
       "Ford High School         80.746258\n",
       "Rodriguez High School    80.744686\n",
       "Name: reading_score, dtype: float64"
      ]
     },
     "execution_count": 170,
     "metadata": {},
     "output_type": "execute_result"
    }
   ],
   "source": [
    "# Cacluate the avg math and reading score\n",
    "#Average reading score in each school\n",
    "school_reading_average=school_data_complete.groupby('school_name')['reading_score'].mean()\n",
    "school_reading_average.sort_values(ascending = False)"
   ]
  },
  {
   "cell_type": "markdown",
   "metadata": {},
   "source": [
    "#### Find the passing rate for math and reading (above 70 points)"
   ]
  },
  {
   "cell_type": "code",
   "execution_count": 137,
   "metadata": {},
   "outputs": [
    {
     "data": {
      "text/plain": [
       "Pena High School         94.594595\n",
       "Cabrera High School      94.133477\n",
       "Wilson High School       93.867718\n",
       "Shelton High School      93.867121\n",
       "Griffin High School      93.392371\n",
       "Wright High School       93.333333\n",
       "Thomas High School       93.272171\n",
       "Holden High School       92.505855\n",
       "Ford High School         68.309602\n",
       "Hernandez High School    66.752967\n",
       "Bailey High School       66.680064\n",
       "Rodriguez High School    66.366592\n",
       "Johnson High School      66.057551\n",
       "Figueroa High School     65.988471\n",
       "Huang High School        65.683922\n",
       "dtype: float64"
      ]
     },
     "execution_count": 137,
     "metadata": {},
     "output_type": "execute_result"
    }
   ],
   "source": [
    "# Find the total counts of math result\n",
    "# % Passing Math\n",
    "school_math_passing = school_data_complete[school_data_complete['math_score']>=70]\n",
    "# Find the counts for math result in each school that pass 70 or higher\n",
    "school_math_count=school_math_passing.groupby('school_name')['student_name'].count()\n",
    "# Calculate the math passing rate\n",
    "math_passing_rate=school_math_count/student_per_school*100\n",
    "math_passing_rate.sort_values(ascending=False)"
   ]
  },
  {
   "cell_type": "code",
   "execution_count": 138,
   "metadata": {},
   "outputs": [
    {
     "data": {
      "text/plain": [
       "Thomas High School       97.308869\n",
       "Griffin High School      97.138965\n",
       "Cabrera High School      97.039828\n",
       "Wright High School       96.611111\n",
       "Wilson High School       96.539641\n",
       "Holden High School       96.252927\n",
       "Pena High School         95.945946\n",
       "Shelton High School      95.854628\n",
       "Bailey High School       81.933280\n",
       "Huang High School        81.316421\n",
       "Johnson High School      81.222432\n",
       "Hernandez High School    80.862999\n",
       "Figueroa High School     80.739234\n",
       "Rodriguez High School    80.220055\n",
       "Ford High School         79.299014\n",
       "dtype: float64"
      ]
     },
     "execution_count": 138,
     "metadata": {},
     "output_type": "execute_result"
    }
   ],
   "source": [
    "# Find the total counts of read result\n",
    "# % Passing Reading\n",
    "school_reading_passing = school_data_complete[school_data_complete['reading_score']>=70]\n",
    "# Find the counts for read result in each school that pass 70 or higher\n",
    "school_reading_count=school_reading_passing.groupby('school_name')['student_name'].count()\n",
    "# Calculate the read passing rate\n",
    "reading_passing_rate=school_reading_count/student_per_school*100\n",
    "reading_passing_rate.sort_values(ascending=False)"
   ]
  },
  {
   "cell_type": "code",
   "execution_count": 139,
   "metadata": {},
   "outputs": [
    {
     "data": {
      "text/plain": [
       "Cabrera High School    95.586652\n",
       "Thomas High School     95.290520\n",
       "Pena High School       95.270270\n",
       "Griffin High School    95.265668\n",
       "Wilson High School     95.203679\n",
       "dtype: float64"
      ]
     },
     "execution_count": 139,
     "metadata": {},
     "output_type": "execute_result"
    }
   ],
   "source": [
    "# Calculate the overall passing rate (average of the math and reading passing rate)\n",
    "overall_passing_rate=(math_passing_rate+reading_passing_rate)/2\n",
    "overall_passing_rate.sort_values(ascending=False).head(5) #take the top 5 of overall passing rate schools"
   ]
  },
  {
   "cell_type": "markdown",
   "metadata": {},
   "source": [
    "### Bottom Performing Schools (By Passing Rate)"
   ]
  },
  {
   "cell_type": "markdown",
   "metadata": {},
   "source": [
    "* Sort and display the five worst-performing schools"
   ]
  },
  {
   "cell_type": "code",
   "execution_count": 142,
   "metadata": {},
   "outputs": [
    {
     "data": {
      "text/plain": [
       "Rodriguez High School    73.293323\n",
       "Figueroa High School     73.363852\n",
       "Huang High School        73.500171\n",
       "Johnson High School      73.639992\n",
       "Ford High School         73.804308\n",
       "dtype: float64"
      ]
     },
     "execution_count": 142,
     "metadata": {},
     "output_type": "execute_result"
    }
   ],
   "source": [
    "#  Sort and display the worst five schools in overall passing rate\n",
    "overall_passing_rate.sort_values(ascending=True).head(5) #take the bottom 5 of overall passing rate schools "
   ]
  },
  {
   "cell_type": "code",
   "execution_count": 210,
   "metadata": {},
   "outputs": [
    {
     "data": {
      "text/html": [
       "<div>\n",
       "<style scoped>\n",
       "    .dataframe tbody tr th:only-of-type {\n",
       "        vertical-align: middle;\n",
       "    }\n",
       "\n",
       "    .dataframe tbody tr th {\n",
       "        vertical-align: top;\n",
       "    }\n",
       "\n",
       "    .dataframe thead th {\n",
       "        text-align: right;\n",
       "    }\n",
       "</style>\n",
       "<table border=\"1\" class=\"dataframe\">\n",
       "  <thead>\n",
       "    <tr style=\"text-align: right;\">\n",
       "      <th></th>\n",
       "      <th>index</th>\n",
       "      <th>total students</th>\n",
       "      <th>school type</th>\n",
       "      <th>budget per school</th>\n",
       "      <th>budget per student</th>\n",
       "      <th>average math score</th>\n",
       "      <th>average reading score</th>\n",
       "      <th>Math passing rate</th>\n",
       "      <th>Reading passing rate</th>\n",
       "      <th>Overall passing rate</th>\n",
       "    </tr>\n",
       "  </thead>\n",
       "  <tbody>\n",
       "    <tr>\n",
       "      <th>0</th>\n",
       "      <td>Bailey High School</td>\n",
       "      <td>39170</td>\n",
       "      <td>District</td>\n",
       "      <td>3124928</td>\n",
       "      <td>628.0</td>\n",
       "      <td>77.048432</td>\n",
       "      <td>81.033963</td>\n",
       "      <td>66.680064</td>\n",
       "      <td>81.933280</td>\n",
       "      <td>74.306672</td>\n",
       "    </tr>\n",
       "    <tr>\n",
       "      <th>1</th>\n",
       "      <td>Cabrera High School</td>\n",
       "      <td>39170</td>\n",
       "      <td>Charter</td>\n",
       "      <td>1081356</td>\n",
       "      <td>582.0</td>\n",
       "      <td>83.061895</td>\n",
       "      <td>83.975780</td>\n",
       "      <td>94.133477</td>\n",
       "      <td>97.039828</td>\n",
       "      <td>95.586652</td>\n",
       "    </tr>\n",
       "    <tr>\n",
       "      <th>2</th>\n",
       "      <td>Figueroa High School</td>\n",
       "      <td>39170</td>\n",
       "      <td>District</td>\n",
       "      <td>1884411</td>\n",
       "      <td>639.0</td>\n",
       "      <td>76.711767</td>\n",
       "      <td>81.158020</td>\n",
       "      <td>65.988471</td>\n",
       "      <td>80.739234</td>\n",
       "      <td>73.363852</td>\n",
       "    </tr>\n",
       "    <tr>\n",
       "      <th>3</th>\n",
       "      <td>Ford High School</td>\n",
       "      <td>39170</td>\n",
       "      <td>District</td>\n",
       "      <td>1763916</td>\n",
       "      <td>644.0</td>\n",
       "      <td>77.102592</td>\n",
       "      <td>80.746258</td>\n",
       "      <td>68.309602</td>\n",
       "      <td>79.299014</td>\n",
       "      <td>73.804308</td>\n",
       "    </tr>\n",
       "    <tr>\n",
       "      <th>4</th>\n",
       "      <td>Griffin High School</td>\n",
       "      <td>39170</td>\n",
       "      <td>Charter</td>\n",
       "      <td>917500</td>\n",
       "      <td>625.0</td>\n",
       "      <td>83.351499</td>\n",
       "      <td>83.816757</td>\n",
       "      <td>93.392371</td>\n",
       "      <td>97.138965</td>\n",
       "      <td>95.265668</td>\n",
       "    </tr>\n",
       "    <tr>\n",
       "      <th>5</th>\n",
       "      <td>Hernandez High School</td>\n",
       "      <td>39170</td>\n",
       "      <td>District</td>\n",
       "      <td>3022020</td>\n",
       "      <td>652.0</td>\n",
       "      <td>77.289752</td>\n",
       "      <td>80.934412</td>\n",
       "      <td>66.752967</td>\n",
       "      <td>80.862999</td>\n",
       "      <td>73.807983</td>\n",
       "    </tr>\n",
       "    <tr>\n",
       "      <th>6</th>\n",
       "      <td>Holden High School</td>\n",
       "      <td>39170</td>\n",
       "      <td>Charter</td>\n",
       "      <td>248087</td>\n",
       "      <td>581.0</td>\n",
       "      <td>83.803279</td>\n",
       "      <td>83.814988</td>\n",
       "      <td>92.505855</td>\n",
       "      <td>96.252927</td>\n",
       "      <td>94.379391</td>\n",
       "    </tr>\n",
       "    <tr>\n",
       "      <th>7</th>\n",
       "      <td>Huang High School</td>\n",
       "      <td>39170</td>\n",
       "      <td>District</td>\n",
       "      <td>1910635</td>\n",
       "      <td>655.0</td>\n",
       "      <td>76.629414</td>\n",
       "      <td>81.182722</td>\n",
       "      <td>65.683922</td>\n",
       "      <td>81.316421</td>\n",
       "      <td>73.500171</td>\n",
       "    </tr>\n",
       "    <tr>\n",
       "      <th>8</th>\n",
       "      <td>Johnson High School</td>\n",
       "      <td>39170</td>\n",
       "      <td>District</td>\n",
       "      <td>3094650</td>\n",
       "      <td>650.0</td>\n",
       "      <td>77.072464</td>\n",
       "      <td>80.966394</td>\n",
       "      <td>66.057551</td>\n",
       "      <td>81.222432</td>\n",
       "      <td>73.639992</td>\n",
       "    </tr>\n",
       "    <tr>\n",
       "      <th>9</th>\n",
       "      <td>Pena High School</td>\n",
       "      <td>39170</td>\n",
       "      <td>Charter</td>\n",
       "      <td>585858</td>\n",
       "      <td>609.0</td>\n",
       "      <td>83.839917</td>\n",
       "      <td>84.044699</td>\n",
       "      <td>94.594595</td>\n",
       "      <td>95.945946</td>\n",
       "      <td>95.270270</td>\n",
       "    </tr>\n",
       "    <tr>\n",
       "      <th>10</th>\n",
       "      <td>Rodriguez High School</td>\n",
       "      <td>39170</td>\n",
       "      <td>District</td>\n",
       "      <td>2547363</td>\n",
       "      <td>637.0</td>\n",
       "      <td>76.842711</td>\n",
       "      <td>80.744686</td>\n",
       "      <td>66.366592</td>\n",
       "      <td>80.220055</td>\n",
       "      <td>73.293323</td>\n",
       "    </tr>\n",
       "    <tr>\n",
       "      <th>11</th>\n",
       "      <td>Shelton High School</td>\n",
       "      <td>39170</td>\n",
       "      <td>Charter</td>\n",
       "      <td>1056600</td>\n",
       "      <td>600.0</td>\n",
       "      <td>83.359455</td>\n",
       "      <td>83.725724</td>\n",
       "      <td>93.867121</td>\n",
       "      <td>95.854628</td>\n",
       "      <td>94.860875</td>\n",
       "    </tr>\n",
       "    <tr>\n",
       "      <th>12</th>\n",
       "      <td>Thomas High School</td>\n",
       "      <td>39170</td>\n",
       "      <td>Charter</td>\n",
       "      <td>1043130</td>\n",
       "      <td>638.0</td>\n",
       "      <td>83.418349</td>\n",
       "      <td>83.848930</td>\n",
       "      <td>93.272171</td>\n",
       "      <td>97.308869</td>\n",
       "      <td>95.290520</td>\n",
       "    </tr>\n",
       "    <tr>\n",
       "      <th>13</th>\n",
       "      <td>Wilson High School</td>\n",
       "      <td>39170</td>\n",
       "      <td>Charter</td>\n",
       "      <td>1319574</td>\n",
       "      <td>578.0</td>\n",
       "      <td>83.274201</td>\n",
       "      <td>83.989488</td>\n",
       "      <td>93.867718</td>\n",
       "      <td>96.539641</td>\n",
       "      <td>95.203679</td>\n",
       "    </tr>\n",
       "    <tr>\n",
       "      <th>14</th>\n",
       "      <td>Wright High School</td>\n",
       "      <td>39170</td>\n",
       "      <td>Charter</td>\n",
       "      <td>1049400</td>\n",
       "      <td>583.0</td>\n",
       "      <td>83.682222</td>\n",
       "      <td>83.955000</td>\n",
       "      <td>93.333333</td>\n",
       "      <td>96.611111</td>\n",
       "      <td>94.972222</td>\n",
       "    </tr>\n",
       "  </tbody>\n",
       "</table>\n",
       "</div>"
      ],
      "text/plain": [
       "                    index  total students school type  budget per school  \\\n",
       "0      Bailey High School           39170    District            3124928   \n",
       "1     Cabrera High School           39170     Charter            1081356   \n",
       "2    Figueroa High School           39170    District            1884411   \n",
       "3        Ford High School           39170    District            1763916   \n",
       "4     Griffin High School           39170     Charter             917500   \n",
       "5   Hernandez High School           39170    District            3022020   \n",
       "6      Holden High School           39170     Charter             248087   \n",
       "7       Huang High School           39170    District            1910635   \n",
       "8     Johnson High School           39170    District            3094650   \n",
       "9        Pena High School           39170     Charter             585858   \n",
       "10  Rodriguez High School           39170    District            2547363   \n",
       "11    Shelton High School           39170     Charter            1056600   \n",
       "12     Thomas High School           39170     Charter            1043130   \n",
       "13     Wilson High School           39170     Charter            1319574   \n",
       "14     Wright High School           39170     Charter            1049400   \n",
       "\n",
       "    budget per student  average math score  average reading score  \\\n",
       "0                628.0           77.048432              81.033963   \n",
       "1                582.0           83.061895              83.975780   \n",
       "2                639.0           76.711767              81.158020   \n",
       "3                644.0           77.102592              80.746258   \n",
       "4                625.0           83.351499              83.816757   \n",
       "5                652.0           77.289752              80.934412   \n",
       "6                581.0           83.803279              83.814988   \n",
       "7                655.0           76.629414              81.182722   \n",
       "8                650.0           77.072464              80.966394   \n",
       "9                609.0           83.839917              84.044699   \n",
       "10               637.0           76.842711              80.744686   \n",
       "11               600.0           83.359455              83.725724   \n",
       "12               638.0           83.418349              83.848930   \n",
       "13               578.0           83.274201              83.989488   \n",
       "14               583.0           83.682222              83.955000   \n",
       "\n",
       "    Math passing rate  Reading passing rate  Overall passing rate  \n",
       "0           66.680064             81.933280             74.306672  \n",
       "1           94.133477             97.039828             95.586652  \n",
       "2           65.988471             80.739234             73.363852  \n",
       "3           68.309602             79.299014             73.804308  \n",
       "4           93.392371             97.138965             95.265668  \n",
       "5           66.752967             80.862999             73.807983  \n",
       "6           92.505855             96.252927             94.379391  \n",
       "7           65.683922             81.316421             73.500171  \n",
       "8           66.057551             81.222432             73.639992  \n",
       "9           94.594595             95.945946             95.270270  \n",
       "10          66.366592             80.220055             73.293323  \n",
       "11          93.867121             95.854628             94.860875  \n",
       "12          93.272171             97.308869             95.290520  \n",
       "13          93.867718             96.539641             95.203679  \n",
       "14          93.333333             96.611111             94.972222  "
      ]
     },
     "execution_count": 210,
     "metadata": {},
     "output_type": "execute_result"
    }
   ],
   "source": [
    "#Create a dataframe to hold the above results\n",
    "summary= pd.DataFrame({\"total students\":total_students,\n",
    "                        \"school type\": school_type,\n",
    "                        \"budget per school\": budget_per_school,\n",
    "                        \"budget per student\": per_student_budget,\n",
    "                        \"average math score\": school_math_average,\n",
    "                        \"average reading score\": school_reading_average,\n",
    "                        \"Math passing rate\": math_passing_rate,\n",
    "                        \"Reading passing rate\": reading_passing_rate, \n",
    "                        \"Overall passing rate\": overall_passing_rate\n",
    "                          })\n",
    "summary.reset_index()"
   ]
  },
  {
   "cell_type": "markdown",
   "metadata": {
    "collapsed": true
   },
   "source": [
    "## Math Scores by Grade"
   ]
  },
  {
   "cell_type": "markdown",
   "metadata": {},
   "source": [
    "* Create a table that lists the average Reading Score for students of each grade level (9th, 10th, 11th, 12th) at each school.\n",
    "\n",
    "  * Create a pandas series for each grade. Hint: use a conditional statement.\n",
    "  \n",
    "  * Group each series by school\n",
    "  \n",
    "  * Combine the series into a dataframe\n",
    "  \n",
    "  * Optional: give the displayed data cleaner formatting"
   ]
  },
  {
   "cell_type": "code",
   "execution_count": 143,
   "metadata": {},
   "outputs": [
    {
     "data": {
      "text/plain": [
       "grade  school_name          \n",
       "10th   Bailey High School       76.996772\n",
       "       Cabrera High School      83.154506\n",
       "       Figueroa High School     76.539974\n",
       "       Ford High School         77.672316\n",
       "       Griffin High School      84.229064\n",
       "       Hernandez High School    77.337408\n",
       "       Holden High School       83.429825\n",
       "       Huang High School        75.908735\n",
       "       Johnson High School      76.691117\n",
       "       Pena High School         83.372000\n",
       "       Rodriguez High School    76.612500\n",
       "       Shelton High School      82.917411\n",
       "       Thomas High School       83.087886\n",
       "       Wilson High School       83.724422\n",
       "       Wright High School       84.010288\n",
       "11th   Bailey High School       77.515588\n",
       "       Cabrera High School      82.765560\n",
       "       Figueroa High School     76.884344\n",
       "       Ford High School         76.918058\n",
       "       Griffin High School      83.842105\n",
       "       Hernandez High School    77.136029\n",
       "       Holden High School       85.000000\n",
       "       Huang High School        76.446602\n",
       "       Johnson High School      77.491653\n",
       "       Pena High School         84.328125\n",
       "       Rodriguez High School    76.395626\n",
       "       Shelton High School      83.383495\n",
       "       Thomas High School       83.498795\n",
       "       Wilson High School       83.195326\n",
       "       Wright High School       83.836782\n",
       "12th   Bailey High School       76.492218\n",
       "       Cabrera High School      83.277487\n",
       "       Figueroa High School     77.151369\n",
       "       Ford High School         76.179963\n",
       "       Griffin High School      83.356164\n",
       "       Hernandez High School    77.186567\n",
       "       Holden High School       82.855422\n",
       "       Huang High School        77.225641\n",
       "       Johnson High School      76.863248\n",
       "       Pena High School         84.121547\n",
       "       Rodriguez High School    77.690748\n",
       "       Shelton High School      83.778976\n",
       "       Thomas High School       83.497041\n",
       "       Wilson High School       83.035794\n",
       "       Wright High School       83.644986\n",
       "9th    Bailey High School       77.083676\n",
       "       Cabrera High School      83.094697\n",
       "       Figueroa High School     76.403037\n",
       "       Ford High School         77.361345\n",
       "       Griffin High School      82.044010\n",
       "       Hernandez High School    77.438495\n",
       "       Holden High School       83.787402\n",
       "       Huang High School        77.027251\n",
       "       Johnson High School      77.187857\n",
       "       Pena High School         83.625455\n",
       "       Rodriguez High School    76.859966\n",
       "       Shelton High School      83.420755\n",
       "       Thomas High School       83.590022\n",
       "       Wilson High School       83.085578\n",
       "       Wright High School       83.264706\n",
       "Name: math_score, dtype: float64"
      ]
     },
     "execution_count": 143,
     "metadata": {},
     "output_type": "execute_result"
    }
   ],
   "source": [
    "# Create table that lists the average math score for each school of each grade level.\n",
    "school_data_complete.groupby(['grade', 'school_name'])['math_score'].mean()"
   ]
  },
  {
   "cell_type": "code",
   "execution_count": 146,
   "metadata": {},
   "outputs": [
    {
     "data": {
      "text/plain": [
       "school_name\n",
       "Holden High School       83.787402\n",
       "Pena High School         83.625455\n",
       "Thomas High School       83.590022\n",
       "Shelton High School      83.420755\n",
       "Wright High School       83.264706\n",
       "Cabrera High School      83.094697\n",
       "Wilson High School       83.085578\n",
       "Griffin High School      82.044010\n",
       "Hernandez High School    77.438495\n",
       "Ford High School         77.361345\n",
       "Johnson High School      77.187857\n",
       "Bailey High School       77.083676\n",
       "Huang High School        77.027251\n",
       "Rodriguez High School    76.859966\n",
       "Figueroa High School     76.403037\n",
       "Name: math_score, dtype: float64"
      ]
     },
     "execution_count": 146,
     "metadata": {},
     "output_type": "execute_result"
    }
   ],
   "source": [
    "# Calculate the average math score for 9th grade in each school\n",
    "math_grade9 = school_data_complete[school_data_complete['grade'] == '9th']\n",
    "average_math_grade9 = math_grade9.groupby('school_name')['math_score'].mean()\n",
    "average_math_grade9.sort_values(ascending = False )"
   ]
  },
  {
   "cell_type": "code",
   "execution_count": 147,
   "metadata": {},
   "outputs": [
    {
     "data": {
      "text/plain": [
       "school_name\n",
       "Griffin High School      84.229064\n",
       "Wright High School       84.010288\n",
       "Wilson High School       83.724422\n",
       "Holden High School       83.429825\n",
       "Pena High School         83.372000\n",
       "Cabrera High School      83.154506\n",
       "Thomas High School       83.087886\n",
       "Shelton High School      82.917411\n",
       "Ford High School         77.672316\n",
       "Hernandez High School    77.337408\n",
       "Bailey High School       76.996772\n",
       "Johnson High School      76.691117\n",
       "Rodriguez High School    76.612500\n",
       "Figueroa High School     76.539974\n",
       "Huang High School        75.908735\n",
       "Name: math_score, dtype: float64"
      ]
     },
     "execution_count": 147,
     "metadata": {},
     "output_type": "execute_result"
    }
   ],
   "source": [
    "# Calculate the average math score for 10th grade in each school\n",
    "math_grade10 = school_data_complete[school_data_complete['grade'] == '10th']\n",
    "average_math_grade10 = math_grade10.groupby('school_name')['math_score'].mean()\n",
    "average_math_grade10.sort_values(ascending = False )"
   ]
  },
  {
   "cell_type": "code",
   "execution_count": 148,
   "metadata": {},
   "outputs": [
    {
     "data": {
      "text/plain": [
       "school_name\n",
       "Holden High School       85.000000\n",
       "Pena High School         84.328125\n",
       "Griffin High School      83.842105\n",
       "Wright High School       83.836782\n",
       "Thomas High School       83.498795\n",
       "Shelton High School      83.383495\n",
       "Wilson High School       83.195326\n",
       "Cabrera High School      82.765560\n",
       "Bailey High School       77.515588\n",
       "Johnson High School      77.491653\n",
       "Hernandez High School    77.136029\n",
       "Ford High School         76.918058\n",
       "Figueroa High School     76.884344\n",
       "Huang High School        76.446602\n",
       "Rodriguez High School    76.395626\n",
       "Name: math_score, dtype: float64"
      ]
     },
     "execution_count": 148,
     "metadata": {},
     "output_type": "execute_result"
    }
   ],
   "source": [
    "# Calculate the average math score for 11th grade in each school\n",
    "math_grade11 = school_data_complete[school_data_complete['grade'] == '11th']\n",
    "average_math_grade11 = math_grade11.groupby('school_name')['math_score'].mean()\n",
    "average_math_grade11.sort_values(ascending = False )"
   ]
  },
  {
   "cell_type": "code",
   "execution_count": 149,
   "metadata": {},
   "outputs": [
    {
     "data": {
      "text/plain": [
       "school_name\n",
       "Pena High School         84.121547\n",
       "Shelton High School      83.778976\n",
       "Wright High School       83.644986\n",
       "Thomas High School       83.497041\n",
       "Griffin High School      83.356164\n",
       "Cabrera High School      83.277487\n",
       "Wilson High School       83.035794\n",
       "Holden High School       82.855422\n",
       "Rodriguez High School    77.690748\n",
       "Huang High School        77.225641\n",
       "Hernandez High School    77.186567\n",
       "Figueroa High School     77.151369\n",
       "Johnson High School      76.863248\n",
       "Bailey High School       76.492218\n",
       "Ford High School         76.179963\n",
       "Name: math_score, dtype: float64"
      ]
     },
     "execution_count": 149,
     "metadata": {},
     "output_type": "execute_result"
    }
   ],
   "source": [
    "# Calculate the average math score for 12th grade in each school\n",
    "math_grade12 = school_data_complete[school_data_complete['grade'] == '12th']\n",
    "average_math_grade12 = math_grade12.groupby('school_name')['math_score'].mean()\n",
    "average_math_grade12.sort_values(ascending = False )"
   ]
  },
  {
   "cell_type": "code",
   "execution_count": 161,
   "metadata": {},
   "outputs": [
    {
     "data": {
      "text/html": [
       "<div>\n",
       "<style scoped>\n",
       "    .dataframe tbody tr th:only-of-type {\n",
       "        vertical-align: middle;\n",
       "    }\n",
       "\n",
       "    .dataframe tbody tr th {\n",
       "        vertical-align: top;\n",
       "    }\n",
       "\n",
       "    .dataframe thead th {\n",
       "        text-align: right;\n",
       "    }\n",
       "</style>\n",
       "<table border=\"1\" class=\"dataframe\">\n",
       "  <thead>\n",
       "    <tr style=\"text-align: right;\">\n",
       "      <th></th>\n",
       "      <th>school_name</th>\n",
       "      <th>9th grade</th>\n",
       "      <th>10th grade</th>\n",
       "      <th>11th grade</th>\n",
       "      <th>12th grade</th>\n",
       "    </tr>\n",
       "  </thead>\n",
       "  <tbody>\n",
       "    <tr>\n",
       "      <th>0</th>\n",
       "      <td>Bailey High School</td>\n",
       "      <td>77.083676</td>\n",
       "      <td>76.996772</td>\n",
       "      <td>77.515588</td>\n",
       "      <td>76.492218</td>\n",
       "    </tr>\n",
       "    <tr>\n",
       "      <th>1</th>\n",
       "      <td>Cabrera High School</td>\n",
       "      <td>83.094697</td>\n",
       "      <td>83.154506</td>\n",
       "      <td>82.765560</td>\n",
       "      <td>83.277487</td>\n",
       "    </tr>\n",
       "    <tr>\n",
       "      <th>2</th>\n",
       "      <td>Figueroa High School</td>\n",
       "      <td>76.403037</td>\n",
       "      <td>76.539974</td>\n",
       "      <td>76.884344</td>\n",
       "      <td>77.151369</td>\n",
       "    </tr>\n",
       "    <tr>\n",
       "      <th>3</th>\n",
       "      <td>Ford High School</td>\n",
       "      <td>77.361345</td>\n",
       "      <td>77.672316</td>\n",
       "      <td>76.918058</td>\n",
       "      <td>76.179963</td>\n",
       "    </tr>\n",
       "    <tr>\n",
       "      <th>4</th>\n",
       "      <td>Griffin High School</td>\n",
       "      <td>82.044010</td>\n",
       "      <td>84.229064</td>\n",
       "      <td>83.842105</td>\n",
       "      <td>83.356164</td>\n",
       "    </tr>\n",
       "    <tr>\n",
       "      <th>5</th>\n",
       "      <td>Hernandez High School</td>\n",
       "      <td>77.438495</td>\n",
       "      <td>77.337408</td>\n",
       "      <td>77.136029</td>\n",
       "      <td>77.186567</td>\n",
       "    </tr>\n",
       "    <tr>\n",
       "      <th>6</th>\n",
       "      <td>Holden High School</td>\n",
       "      <td>83.787402</td>\n",
       "      <td>83.429825</td>\n",
       "      <td>85.000000</td>\n",
       "      <td>82.855422</td>\n",
       "    </tr>\n",
       "    <tr>\n",
       "      <th>7</th>\n",
       "      <td>Huang High School</td>\n",
       "      <td>77.027251</td>\n",
       "      <td>75.908735</td>\n",
       "      <td>76.446602</td>\n",
       "      <td>77.225641</td>\n",
       "    </tr>\n",
       "    <tr>\n",
       "      <th>8</th>\n",
       "      <td>Johnson High School</td>\n",
       "      <td>77.187857</td>\n",
       "      <td>76.691117</td>\n",
       "      <td>77.491653</td>\n",
       "      <td>76.863248</td>\n",
       "    </tr>\n",
       "    <tr>\n",
       "      <th>9</th>\n",
       "      <td>Pena High School</td>\n",
       "      <td>83.625455</td>\n",
       "      <td>83.372000</td>\n",
       "      <td>84.328125</td>\n",
       "      <td>84.121547</td>\n",
       "    </tr>\n",
       "    <tr>\n",
       "      <th>10</th>\n",
       "      <td>Rodriguez High School</td>\n",
       "      <td>76.859966</td>\n",
       "      <td>76.612500</td>\n",
       "      <td>76.395626</td>\n",
       "      <td>77.690748</td>\n",
       "    </tr>\n",
       "    <tr>\n",
       "      <th>11</th>\n",
       "      <td>Shelton High School</td>\n",
       "      <td>83.420755</td>\n",
       "      <td>82.917411</td>\n",
       "      <td>83.383495</td>\n",
       "      <td>83.778976</td>\n",
       "    </tr>\n",
       "    <tr>\n",
       "      <th>12</th>\n",
       "      <td>Thomas High School</td>\n",
       "      <td>83.590022</td>\n",
       "      <td>83.087886</td>\n",
       "      <td>83.498795</td>\n",
       "      <td>83.497041</td>\n",
       "    </tr>\n",
       "    <tr>\n",
       "      <th>13</th>\n",
       "      <td>Wilson High School</td>\n",
       "      <td>83.085578</td>\n",
       "      <td>83.724422</td>\n",
       "      <td>83.195326</td>\n",
       "      <td>83.035794</td>\n",
       "    </tr>\n",
       "    <tr>\n",
       "      <th>14</th>\n",
       "      <td>Wright High School</td>\n",
       "      <td>83.264706</td>\n",
       "      <td>84.010288</td>\n",
       "      <td>83.836782</td>\n",
       "      <td>83.644986</td>\n",
       "    </tr>\n",
       "  </tbody>\n",
       "</table>\n",
       "</div>"
      ],
      "text/plain": [
       "              school_name  9th grade  10th grade  11th grade  12th grade\n",
       "0      Bailey High School  77.083676   76.996772   77.515588   76.492218\n",
       "1     Cabrera High School  83.094697   83.154506   82.765560   83.277487\n",
       "2    Figueroa High School  76.403037   76.539974   76.884344   77.151369\n",
       "3        Ford High School  77.361345   77.672316   76.918058   76.179963\n",
       "4     Griffin High School  82.044010   84.229064   83.842105   83.356164\n",
       "5   Hernandez High School  77.438495   77.337408   77.136029   77.186567\n",
       "6      Holden High School  83.787402   83.429825   85.000000   82.855422\n",
       "7       Huang High School  77.027251   75.908735   76.446602   77.225641\n",
       "8     Johnson High School  77.187857   76.691117   77.491653   76.863248\n",
       "9        Pena High School  83.625455   83.372000   84.328125   84.121547\n",
       "10  Rodriguez High School  76.859966   76.612500   76.395626   77.690748\n",
       "11    Shelton High School  83.420755   82.917411   83.383495   83.778976\n",
       "12     Thomas High School  83.590022   83.087886   83.498795   83.497041\n",
       "13     Wilson High School  83.085578   83.724422   83.195326   83.035794\n",
       "14     Wright High School  83.264706   84.010288   83.836782   83.644986"
      ]
     },
     "execution_count": 161,
     "metadata": {},
     "output_type": "execute_result"
    }
   ],
   "source": [
    "#Combine the series into a dataframe\n",
    "math_grade = pd.DataFrame({\"9th grade\": average_math_grade9,\n",
    "                          \"10th grade\": average_math_grade10, \n",
    "                          \"11th grade\": average_math_grade11,\n",
    "                          \"12th grade\": average_math_grade12})\n",
    "math_grade.reset_index()"
   ]
  },
  {
   "cell_type": "markdown",
   "metadata": {},
   "source": [
    "### Reading Score by Grade "
   ]
  },
  {
   "cell_type": "markdown",
   "metadata": {},
   "source": [
    "* Perform the same operations as above for reading scores"
   ]
  },
  {
   "cell_type": "code",
   "execution_count": 150,
   "metadata": {},
   "outputs": [
    {
     "data": {
      "text/plain": [
       "grade  school_name          \n",
       "10th   Bailey High School       80.907183\n",
       "       Cabrera High School      84.253219\n",
       "       Figueroa High School     81.408912\n",
       "       Ford High School         81.262712\n",
       "       Griffin High School      83.706897\n",
       "       Hernandez High School    80.660147\n",
       "       Holden High School       83.324561\n",
       "       Huang High School        81.512386\n",
       "       Johnson High School      80.773431\n",
       "       Pena High School         83.612000\n",
       "       Rodriguez High School    80.629808\n",
       "       Shelton High School      83.441964\n",
       "       Thomas High School       84.254157\n",
       "       Wilson High School       84.021452\n",
       "       Wright High School       83.812757\n",
       "11th   Bailey High School       80.945643\n",
       "       Cabrera High School      83.788382\n",
       "       Figueroa High School     80.640339\n",
       "       Ford High School         80.403642\n",
       "       Griffin High School      84.288089\n",
       "       Hernandez High School    81.396140\n",
       "       Holden High School       83.815534\n",
       "       Huang High School        81.417476\n",
       "       Johnson High School      80.616027\n",
       "       Pena High School         84.335938\n",
       "       Rodriguez High School    80.864811\n",
       "       Shelton High School      84.373786\n",
       "       Thomas High School       83.585542\n",
       "       Wilson High School       83.764608\n",
       "       Wright High School       84.156322\n",
       "12th   Bailey High School       80.912451\n",
       "       Cabrera High School      84.287958\n",
       "       Figueroa High School     81.384863\n",
       "       Ford High School         80.662338\n",
       "       Griffin High School      84.013699\n",
       "       Hernandez High School    80.857143\n",
       "       Holden High School       84.698795\n",
       "       Huang High School        80.305983\n",
       "       Johnson High School      81.227564\n",
       "       Pena High School         84.591160\n",
       "       Rodriguez High School    80.376426\n",
       "       Shelton High School      82.781671\n",
       "       Thomas High School       83.831361\n",
       "       Wilson High School       84.317673\n",
       "       Wright High School       84.073171\n",
       "9th    Bailey High School       81.303155\n",
       "       Cabrera High School      83.676136\n",
       "       Figueroa High School     81.198598\n",
       "       Ford High School         80.632653\n",
       "       Griffin High School      83.369193\n",
       "       Hernandez High School    80.866860\n",
       "       Holden High School       83.677165\n",
       "       Huang High School        81.290284\n",
       "       Johnson High School      81.260714\n",
       "       Pena High School         83.807273\n",
       "       Rodriguez High School    80.993127\n",
       "       Shelton High School      84.122642\n",
       "       Thomas High School       83.728850\n",
       "       Wilson High School       83.939778\n",
       "       Wright High School       83.833333\n",
       "Name: reading_score, dtype: float64"
      ]
     },
     "execution_count": 150,
     "metadata": {},
     "output_type": "execute_result"
    }
   ],
   "source": [
    "# Create table that lists the average reading score for each school of each grade level.\n",
    "school_data_complete.groupby(['grade', 'school_name'])['reading_score'].mean()\n"
   ]
  },
  {
   "cell_type": "code",
   "execution_count": 151,
   "metadata": {},
   "outputs": [
    {
     "data": {
      "text/plain": [
       "school_name\n",
       "Shelton High School      84.122642\n",
       "Wilson High School       83.939778\n",
       "Wright High School       83.833333\n",
       "Pena High School         83.807273\n",
       "Thomas High School       83.728850\n",
       "Holden High School       83.677165\n",
       "Cabrera High School      83.676136\n",
       "Griffin High School      83.369193\n",
       "Bailey High School       81.303155\n",
       "Huang High School        81.290284\n",
       "Johnson High School      81.260714\n",
       "Figueroa High School     81.198598\n",
       "Rodriguez High School    80.993127\n",
       "Hernandez High School    80.866860\n",
       "Ford High School         80.632653\n",
       "Name: reading_score, dtype: float64"
      ]
     },
     "execution_count": 151,
     "metadata": {},
     "output_type": "execute_result"
    }
   ],
   "source": [
    "# Calculate the average reading score for 9th grade in each school\n",
    "reading_grade9 = school_data_complete[school_data_complete['grade'] == '9th']\n",
    "average_reading_grade9 = reading_grade9.groupby('school_name')['reading_score'].mean()\n",
    "average_reading_grade9.sort_values(ascending = False )"
   ]
  },
  {
   "cell_type": "code",
   "execution_count": 152,
   "metadata": {},
   "outputs": [
    {
     "data": {
      "text/plain": [
       "school_name\n",
       "Thomas High School       84.254157\n",
       "Cabrera High School      84.253219\n",
       "Wilson High School       84.021452\n",
       "Wright High School       83.812757\n",
       "Griffin High School      83.706897\n",
       "Pena High School         83.612000\n",
       "Shelton High School      83.441964\n",
       "Holden High School       83.324561\n",
       "Huang High School        81.512386\n",
       "Figueroa High School     81.408912\n",
       "Ford High School         81.262712\n",
       "Bailey High School       80.907183\n",
       "Johnson High School      80.773431\n",
       "Hernandez High School    80.660147\n",
       "Rodriguez High School    80.629808\n",
       "Name: reading_score, dtype: float64"
      ]
     },
     "execution_count": 152,
     "metadata": {},
     "output_type": "execute_result"
    }
   ],
   "source": [
    "# Calculate the average reading score for 10th grade in each school\n",
    "reading_grade10 = school_data_complete[school_data_complete['grade'] == '10th']\n",
    "average_reading_grade10 = reading_grade10.groupby('school_name')['reading_score'].mean()\n",
    "average_reading_grade10.sort_values(ascending = False )"
   ]
  },
  {
   "cell_type": "code",
   "execution_count": 153,
   "metadata": {},
   "outputs": [
    {
     "data": {
      "text/plain": [
       "school_name\n",
       "Shelton High School      84.373786\n",
       "Pena High School         84.335938\n",
       "Griffin High School      84.288089\n",
       "Wright High School       84.156322\n",
       "Holden High School       83.815534\n",
       "Cabrera High School      83.788382\n",
       "Wilson High School       83.764608\n",
       "Thomas High School       83.585542\n",
       "Huang High School        81.417476\n",
       "Hernandez High School    81.396140\n",
       "Bailey High School       80.945643\n",
       "Rodriguez High School    80.864811\n",
       "Figueroa High School     80.640339\n",
       "Johnson High School      80.616027\n",
       "Ford High School         80.403642\n",
       "Name: reading_score, dtype: float64"
      ]
     },
     "execution_count": 153,
     "metadata": {},
     "output_type": "execute_result"
    }
   ],
   "source": [
    "# Calculate the average reading score for 11th grade in each school\n",
    "reading_grade11 = school_data_complete[school_data_complete['grade'] == '11th']\n",
    "average_reading_grade11 = reading_grade11.groupby('school_name')['reading_score'].mean()\n",
    "average_reading_grade11.sort_values(ascending = False )"
   ]
  },
  {
   "cell_type": "code",
   "execution_count": 154,
   "metadata": {},
   "outputs": [
    {
     "data": {
      "text/plain": [
       "school_name\n",
       "Holden High School       84.698795\n",
       "Pena High School         84.591160\n",
       "Wilson High School       84.317673\n",
       "Cabrera High School      84.287958\n",
       "Wright High School       84.073171\n",
       "Griffin High School      84.013699\n",
       "Thomas High School       83.831361\n",
       "Shelton High School      82.781671\n",
       "Figueroa High School     81.384863\n",
       "Johnson High School      81.227564\n",
       "Bailey High School       80.912451\n",
       "Hernandez High School    80.857143\n",
       "Ford High School         80.662338\n",
       "Rodriguez High School    80.376426\n",
       "Huang High School        80.305983\n",
       "Name: reading_score, dtype: float64"
      ]
     },
     "execution_count": 154,
     "metadata": {},
     "output_type": "execute_result"
    }
   ],
   "source": [
    "# Calculate the average reading score for 12th grade in each school\n",
    "reading_grade12 = school_data_complete[school_data_complete['grade'] == '12th']\n",
    "average_reading_grade12 = reading_grade12.groupby('school_name')['reading_score'].mean()\n",
    "average_reading_grade12.sort_values(ascending = False )"
   ]
  },
  {
   "cell_type": "code",
   "execution_count": 160,
   "metadata": {},
   "outputs": [
    {
     "data": {
      "text/html": [
       "<div>\n",
       "<style scoped>\n",
       "    .dataframe tbody tr th:only-of-type {\n",
       "        vertical-align: middle;\n",
       "    }\n",
       "\n",
       "    .dataframe tbody tr th {\n",
       "        vertical-align: top;\n",
       "    }\n",
       "\n",
       "    .dataframe thead th {\n",
       "        text-align: right;\n",
       "    }\n",
       "</style>\n",
       "<table border=\"1\" class=\"dataframe\">\n",
       "  <thead>\n",
       "    <tr style=\"text-align: right;\">\n",
       "      <th></th>\n",
       "      <th>school_name</th>\n",
       "      <th>9th grade</th>\n",
       "      <th>10th grade</th>\n",
       "      <th>11th grade</th>\n",
       "      <th>12th grade</th>\n",
       "    </tr>\n",
       "  </thead>\n",
       "  <tbody>\n",
       "    <tr>\n",
       "      <th>0</th>\n",
       "      <td>Bailey High School</td>\n",
       "      <td>81.303155</td>\n",
       "      <td>80.907183</td>\n",
       "      <td>80.945643</td>\n",
       "      <td>80.912451</td>\n",
       "    </tr>\n",
       "    <tr>\n",
       "      <th>1</th>\n",
       "      <td>Cabrera High School</td>\n",
       "      <td>83.676136</td>\n",
       "      <td>84.253219</td>\n",
       "      <td>83.788382</td>\n",
       "      <td>84.287958</td>\n",
       "    </tr>\n",
       "    <tr>\n",
       "      <th>2</th>\n",
       "      <td>Figueroa High School</td>\n",
       "      <td>81.198598</td>\n",
       "      <td>81.408912</td>\n",
       "      <td>80.640339</td>\n",
       "      <td>81.384863</td>\n",
       "    </tr>\n",
       "    <tr>\n",
       "      <th>3</th>\n",
       "      <td>Ford High School</td>\n",
       "      <td>80.632653</td>\n",
       "      <td>81.262712</td>\n",
       "      <td>80.403642</td>\n",
       "      <td>80.662338</td>\n",
       "    </tr>\n",
       "    <tr>\n",
       "      <th>4</th>\n",
       "      <td>Griffin High School</td>\n",
       "      <td>83.369193</td>\n",
       "      <td>83.706897</td>\n",
       "      <td>84.288089</td>\n",
       "      <td>84.013699</td>\n",
       "    </tr>\n",
       "    <tr>\n",
       "      <th>5</th>\n",
       "      <td>Hernandez High School</td>\n",
       "      <td>80.866860</td>\n",
       "      <td>80.660147</td>\n",
       "      <td>81.396140</td>\n",
       "      <td>80.857143</td>\n",
       "    </tr>\n",
       "    <tr>\n",
       "      <th>6</th>\n",
       "      <td>Holden High School</td>\n",
       "      <td>83.677165</td>\n",
       "      <td>83.324561</td>\n",
       "      <td>83.815534</td>\n",
       "      <td>84.698795</td>\n",
       "    </tr>\n",
       "    <tr>\n",
       "      <th>7</th>\n",
       "      <td>Huang High School</td>\n",
       "      <td>81.290284</td>\n",
       "      <td>81.512386</td>\n",
       "      <td>81.417476</td>\n",
       "      <td>80.305983</td>\n",
       "    </tr>\n",
       "    <tr>\n",
       "      <th>8</th>\n",
       "      <td>Johnson High School</td>\n",
       "      <td>81.260714</td>\n",
       "      <td>80.773431</td>\n",
       "      <td>80.616027</td>\n",
       "      <td>81.227564</td>\n",
       "    </tr>\n",
       "    <tr>\n",
       "      <th>9</th>\n",
       "      <td>Pena High School</td>\n",
       "      <td>83.807273</td>\n",
       "      <td>83.612000</td>\n",
       "      <td>84.335938</td>\n",
       "      <td>84.591160</td>\n",
       "    </tr>\n",
       "    <tr>\n",
       "      <th>10</th>\n",
       "      <td>Rodriguez High School</td>\n",
       "      <td>80.993127</td>\n",
       "      <td>80.629808</td>\n",
       "      <td>80.864811</td>\n",
       "      <td>80.376426</td>\n",
       "    </tr>\n",
       "    <tr>\n",
       "      <th>11</th>\n",
       "      <td>Shelton High School</td>\n",
       "      <td>84.122642</td>\n",
       "      <td>83.441964</td>\n",
       "      <td>84.373786</td>\n",
       "      <td>82.781671</td>\n",
       "    </tr>\n",
       "    <tr>\n",
       "      <th>12</th>\n",
       "      <td>Thomas High School</td>\n",
       "      <td>83.728850</td>\n",
       "      <td>84.254157</td>\n",
       "      <td>83.585542</td>\n",
       "      <td>83.831361</td>\n",
       "    </tr>\n",
       "    <tr>\n",
       "      <th>13</th>\n",
       "      <td>Wilson High School</td>\n",
       "      <td>83.939778</td>\n",
       "      <td>84.021452</td>\n",
       "      <td>83.764608</td>\n",
       "      <td>84.317673</td>\n",
       "    </tr>\n",
       "    <tr>\n",
       "      <th>14</th>\n",
       "      <td>Wright High School</td>\n",
       "      <td>83.833333</td>\n",
       "      <td>83.812757</td>\n",
       "      <td>84.156322</td>\n",
       "      <td>84.073171</td>\n",
       "    </tr>\n",
       "  </tbody>\n",
       "</table>\n",
       "</div>"
      ],
      "text/plain": [
       "              school_name  9th grade  10th grade  11th grade  12th grade\n",
       "0      Bailey High School  81.303155   80.907183   80.945643   80.912451\n",
       "1     Cabrera High School  83.676136   84.253219   83.788382   84.287958\n",
       "2    Figueroa High School  81.198598   81.408912   80.640339   81.384863\n",
       "3        Ford High School  80.632653   81.262712   80.403642   80.662338\n",
       "4     Griffin High School  83.369193   83.706897   84.288089   84.013699\n",
       "5   Hernandez High School  80.866860   80.660147   81.396140   80.857143\n",
       "6      Holden High School  83.677165   83.324561   83.815534   84.698795\n",
       "7       Huang High School  81.290284   81.512386   81.417476   80.305983\n",
       "8     Johnson High School  81.260714   80.773431   80.616027   81.227564\n",
       "9        Pena High School  83.807273   83.612000   84.335938   84.591160\n",
       "10  Rodriguez High School  80.993127   80.629808   80.864811   80.376426\n",
       "11    Shelton High School  84.122642   83.441964   84.373786   82.781671\n",
       "12     Thomas High School  83.728850   84.254157   83.585542   83.831361\n",
       "13     Wilson High School  83.939778   84.021452   83.764608   84.317673\n",
       "14     Wright High School  83.833333   83.812757   84.156322   84.073171"
      ]
     },
     "execution_count": 160,
     "metadata": {},
     "output_type": "execute_result"
    }
   ],
   "source": [
    "#create a Data Frame\n",
    "reading_grade = pd.DataFrame({\"9th grade\": average_reading_grade9,\n",
    "                          \"10th grade\": average_reading_grade10, \n",
    "                          \"11th grade\": average_reading_grade11,\n",
    "                          \"12th grade\": average_reading_grade12})\n",
    "reading_grade.reset_index()"
   ]
  },
  {
   "cell_type": "markdown",
   "metadata": {},
   "source": [
    "## Scores by School Spending"
   ]
  },
  {
   "cell_type": "markdown",
   "metadata": {},
   "source": [
    "* Create a table that breaks down school performances based on average Spending Ranges (Per Student). Use 4 reasonable bins to group school spending. Include in the table each of the following:\n",
    "  * Average Math Score\n",
    "  * Average Reading Score\n",
    "  * % Passing Math\n",
    "  * % Passing Reading\n",
    "  * Overall Passing Rate (Average of the above two)"
   ]
  },
  {
   "cell_type": "code",
   "execution_count": 163,
   "metadata": {},
   "outputs": [],
   "source": [
    "# Sample bins. Feel free to create your own bins.\n",
    "spending_bins = [0, 585, 615, 645, 675]\n",
    "group_names = [\"<$585\", \"$585-615\", \"$615-645\", \"$645-675\"]"
   ]
  },
  {
   "cell_type": "code",
   "execution_count": 195,
   "metadata": {},
   "outputs": [
    {
     "data": {
      "text/plain": [
       "Bailey High School       628.0\n",
       "Cabrera High School      582.0\n",
       "Figueroa High School     639.0\n",
       "Ford High School         644.0\n",
       "Griffin High School      625.0\n",
       "Hernandez High School    652.0\n",
       "Holden High School       581.0\n",
       "Huang High School        655.0\n",
       "Johnson High School      650.0\n",
       "Pena High School         609.0\n",
       "Rodriguez High School    637.0\n",
       "Shelton High School      600.0\n",
       "Thomas High School       638.0\n",
       "Wilson High School       578.0\n",
       "Wright High School       583.0\n",
       "Name: budget per student, dtype: float64"
      ]
     },
     "execution_count": 195,
     "metadata": {},
     "output_type": "execute_result"
    }
   ],
   "source": [
    "# Create a new column to show budget per student in each row\n",
    "summary['budget per student']"
   ]
  },
  {
   "cell_type": "code",
   "execution_count": 211,
   "metadata": {},
   "outputs": [
    {
     "data": {
      "text/html": [
       "<div>\n",
       "<style scoped>\n",
       "    .dataframe tbody tr th:only-of-type {\n",
       "        vertical-align: middle;\n",
       "    }\n",
       "\n",
       "    .dataframe tbody tr th {\n",
       "        vertical-align: top;\n",
       "    }\n",
       "\n",
       "    .dataframe thead th {\n",
       "        text-align: right;\n",
       "    }\n",
       "</style>\n",
       "<table border=\"1\" class=\"dataframe\">\n",
       "  <thead>\n",
       "    <tr style=\"text-align: right;\">\n",
       "      <th></th>\n",
       "      <th>total students</th>\n",
       "      <th>school type</th>\n",
       "      <th>budget per school</th>\n",
       "      <th>budget per student</th>\n",
       "      <th>average math score</th>\n",
       "      <th>average reading score</th>\n",
       "      <th>Math passing rate</th>\n",
       "      <th>Reading passing rate</th>\n",
       "      <th>Overall passing rate</th>\n",
       "      <th>spending ranges</th>\n",
       "    </tr>\n",
       "  </thead>\n",
       "  <tbody>\n",
       "    <tr>\n",
       "      <th>Bailey High School</th>\n",
       "      <td>39170</td>\n",
       "      <td>District</td>\n",
       "      <td>3124928</td>\n",
       "      <td>628.0</td>\n",
       "      <td>77.048432</td>\n",
       "      <td>81.033963</td>\n",
       "      <td>66.680064</td>\n",
       "      <td>81.933280</td>\n",
       "      <td>74.306672</td>\n",
       "      <td>$615-645</td>\n",
       "    </tr>\n",
       "    <tr>\n",
       "      <th>Cabrera High School</th>\n",
       "      <td>39170</td>\n",
       "      <td>Charter</td>\n",
       "      <td>1081356</td>\n",
       "      <td>582.0</td>\n",
       "      <td>83.061895</td>\n",
       "      <td>83.975780</td>\n",
       "      <td>94.133477</td>\n",
       "      <td>97.039828</td>\n",
       "      <td>95.586652</td>\n",
       "      <td>&lt;$585</td>\n",
       "    </tr>\n",
       "    <tr>\n",
       "      <th>Figueroa High School</th>\n",
       "      <td>39170</td>\n",
       "      <td>District</td>\n",
       "      <td>1884411</td>\n",
       "      <td>639.0</td>\n",
       "      <td>76.711767</td>\n",
       "      <td>81.158020</td>\n",
       "      <td>65.988471</td>\n",
       "      <td>80.739234</td>\n",
       "      <td>73.363852</td>\n",
       "      <td>$615-645</td>\n",
       "    </tr>\n",
       "    <tr>\n",
       "      <th>Ford High School</th>\n",
       "      <td>39170</td>\n",
       "      <td>District</td>\n",
       "      <td>1763916</td>\n",
       "      <td>644.0</td>\n",
       "      <td>77.102592</td>\n",
       "      <td>80.746258</td>\n",
       "      <td>68.309602</td>\n",
       "      <td>79.299014</td>\n",
       "      <td>73.804308</td>\n",
       "      <td>$615-645</td>\n",
       "    </tr>\n",
       "    <tr>\n",
       "      <th>Griffin High School</th>\n",
       "      <td>39170</td>\n",
       "      <td>Charter</td>\n",
       "      <td>917500</td>\n",
       "      <td>625.0</td>\n",
       "      <td>83.351499</td>\n",
       "      <td>83.816757</td>\n",
       "      <td>93.392371</td>\n",
       "      <td>97.138965</td>\n",
       "      <td>95.265668</td>\n",
       "      <td>$615-645</td>\n",
       "    </tr>\n",
       "    <tr>\n",
       "      <th>Hernandez High School</th>\n",
       "      <td>39170</td>\n",
       "      <td>District</td>\n",
       "      <td>3022020</td>\n",
       "      <td>652.0</td>\n",
       "      <td>77.289752</td>\n",
       "      <td>80.934412</td>\n",
       "      <td>66.752967</td>\n",
       "      <td>80.862999</td>\n",
       "      <td>73.807983</td>\n",
       "      <td>$645-675</td>\n",
       "    </tr>\n",
       "    <tr>\n",
       "      <th>Holden High School</th>\n",
       "      <td>39170</td>\n",
       "      <td>Charter</td>\n",
       "      <td>248087</td>\n",
       "      <td>581.0</td>\n",
       "      <td>83.803279</td>\n",
       "      <td>83.814988</td>\n",
       "      <td>92.505855</td>\n",
       "      <td>96.252927</td>\n",
       "      <td>94.379391</td>\n",
       "      <td>&lt;$585</td>\n",
       "    </tr>\n",
       "    <tr>\n",
       "      <th>Huang High School</th>\n",
       "      <td>39170</td>\n",
       "      <td>District</td>\n",
       "      <td>1910635</td>\n",
       "      <td>655.0</td>\n",
       "      <td>76.629414</td>\n",
       "      <td>81.182722</td>\n",
       "      <td>65.683922</td>\n",
       "      <td>81.316421</td>\n",
       "      <td>73.500171</td>\n",
       "      <td>$645-675</td>\n",
       "    </tr>\n",
       "    <tr>\n",
       "      <th>Johnson High School</th>\n",
       "      <td>39170</td>\n",
       "      <td>District</td>\n",
       "      <td>3094650</td>\n",
       "      <td>650.0</td>\n",
       "      <td>77.072464</td>\n",
       "      <td>80.966394</td>\n",
       "      <td>66.057551</td>\n",
       "      <td>81.222432</td>\n",
       "      <td>73.639992</td>\n",
       "      <td>$645-675</td>\n",
       "    </tr>\n",
       "    <tr>\n",
       "      <th>Pena High School</th>\n",
       "      <td>39170</td>\n",
       "      <td>Charter</td>\n",
       "      <td>585858</td>\n",
       "      <td>609.0</td>\n",
       "      <td>83.839917</td>\n",
       "      <td>84.044699</td>\n",
       "      <td>94.594595</td>\n",
       "      <td>95.945946</td>\n",
       "      <td>95.270270</td>\n",
       "      <td>$585-615</td>\n",
       "    </tr>\n",
       "    <tr>\n",
       "      <th>Rodriguez High School</th>\n",
       "      <td>39170</td>\n",
       "      <td>District</td>\n",
       "      <td>2547363</td>\n",
       "      <td>637.0</td>\n",
       "      <td>76.842711</td>\n",
       "      <td>80.744686</td>\n",
       "      <td>66.366592</td>\n",
       "      <td>80.220055</td>\n",
       "      <td>73.293323</td>\n",
       "      <td>$615-645</td>\n",
       "    </tr>\n",
       "    <tr>\n",
       "      <th>Shelton High School</th>\n",
       "      <td>39170</td>\n",
       "      <td>Charter</td>\n",
       "      <td>1056600</td>\n",
       "      <td>600.0</td>\n",
       "      <td>83.359455</td>\n",
       "      <td>83.725724</td>\n",
       "      <td>93.867121</td>\n",
       "      <td>95.854628</td>\n",
       "      <td>94.860875</td>\n",
       "      <td>$585-615</td>\n",
       "    </tr>\n",
       "    <tr>\n",
       "      <th>Thomas High School</th>\n",
       "      <td>39170</td>\n",
       "      <td>Charter</td>\n",
       "      <td>1043130</td>\n",
       "      <td>638.0</td>\n",
       "      <td>83.418349</td>\n",
       "      <td>83.848930</td>\n",
       "      <td>93.272171</td>\n",
       "      <td>97.308869</td>\n",
       "      <td>95.290520</td>\n",
       "      <td>$615-645</td>\n",
       "    </tr>\n",
       "    <tr>\n",
       "      <th>Wilson High School</th>\n",
       "      <td>39170</td>\n",
       "      <td>Charter</td>\n",
       "      <td>1319574</td>\n",
       "      <td>578.0</td>\n",
       "      <td>83.274201</td>\n",
       "      <td>83.989488</td>\n",
       "      <td>93.867718</td>\n",
       "      <td>96.539641</td>\n",
       "      <td>95.203679</td>\n",
       "      <td>&lt;$585</td>\n",
       "    </tr>\n",
       "    <tr>\n",
       "      <th>Wright High School</th>\n",
       "      <td>39170</td>\n",
       "      <td>Charter</td>\n",
       "      <td>1049400</td>\n",
       "      <td>583.0</td>\n",
       "      <td>83.682222</td>\n",
       "      <td>83.955000</td>\n",
       "      <td>93.333333</td>\n",
       "      <td>96.611111</td>\n",
       "      <td>94.972222</td>\n",
       "      <td>&lt;$585</td>\n",
       "    </tr>\n",
       "  </tbody>\n",
       "</table>\n",
       "</div>"
      ],
      "text/plain": [
       "                       total students school type  budget per school  \\\n",
       "Bailey High School              39170    District            3124928   \n",
       "Cabrera High School             39170     Charter            1081356   \n",
       "Figueroa High School            39170    District            1884411   \n",
       "Ford High School                39170    District            1763916   \n",
       "Griffin High School             39170     Charter             917500   \n",
       "Hernandez High School           39170    District            3022020   \n",
       "Holden High School              39170     Charter             248087   \n",
       "Huang High School               39170    District            1910635   \n",
       "Johnson High School             39170    District            3094650   \n",
       "Pena High School                39170     Charter             585858   \n",
       "Rodriguez High School           39170    District            2547363   \n",
       "Shelton High School             39170     Charter            1056600   \n",
       "Thomas High School              39170     Charter            1043130   \n",
       "Wilson High School              39170     Charter            1319574   \n",
       "Wright High School              39170     Charter            1049400   \n",
       "\n",
       "                       budget per student  average math score  \\\n",
       "Bailey High School                  628.0           77.048432   \n",
       "Cabrera High School                 582.0           83.061895   \n",
       "Figueroa High School                639.0           76.711767   \n",
       "Ford High School                    644.0           77.102592   \n",
       "Griffin High School                 625.0           83.351499   \n",
       "Hernandez High School               652.0           77.289752   \n",
       "Holden High School                  581.0           83.803279   \n",
       "Huang High School                   655.0           76.629414   \n",
       "Johnson High School                 650.0           77.072464   \n",
       "Pena High School                    609.0           83.839917   \n",
       "Rodriguez High School               637.0           76.842711   \n",
       "Shelton High School                 600.0           83.359455   \n",
       "Thomas High School                  638.0           83.418349   \n",
       "Wilson High School                  578.0           83.274201   \n",
       "Wright High School                  583.0           83.682222   \n",
       "\n",
       "                       average reading score  Math passing rate  \\\n",
       "Bailey High School                 81.033963          66.680064   \n",
       "Cabrera High School                83.975780          94.133477   \n",
       "Figueroa High School               81.158020          65.988471   \n",
       "Ford High School                   80.746258          68.309602   \n",
       "Griffin High School                83.816757          93.392371   \n",
       "Hernandez High School              80.934412          66.752967   \n",
       "Holden High School                 83.814988          92.505855   \n",
       "Huang High School                  81.182722          65.683922   \n",
       "Johnson High School                80.966394          66.057551   \n",
       "Pena High School                   84.044699          94.594595   \n",
       "Rodriguez High School              80.744686          66.366592   \n",
       "Shelton High School                83.725724          93.867121   \n",
       "Thomas High School                 83.848930          93.272171   \n",
       "Wilson High School                 83.989488          93.867718   \n",
       "Wright High School                 83.955000          93.333333   \n",
       "\n",
       "                       Reading passing rate  Overall passing rate  \\\n",
       "Bailey High School                81.933280             74.306672   \n",
       "Cabrera High School               97.039828             95.586652   \n",
       "Figueroa High School              80.739234             73.363852   \n",
       "Ford High School                  79.299014             73.804308   \n",
       "Griffin High School               97.138965             95.265668   \n",
       "Hernandez High School             80.862999             73.807983   \n",
       "Holden High School                96.252927             94.379391   \n",
       "Huang High School                 81.316421             73.500171   \n",
       "Johnson High School               81.222432             73.639992   \n",
       "Pena High School                  95.945946             95.270270   \n",
       "Rodriguez High School             80.220055             73.293323   \n",
       "Shelton High School               95.854628             94.860875   \n",
       "Thomas High School                97.308869             95.290520   \n",
       "Wilson High School                96.539641             95.203679   \n",
       "Wright High School                96.611111             94.972222   \n",
       "\n",
       "                      spending ranges  \n",
       "Bailey High School           $615-645  \n",
       "Cabrera High School             <$585  \n",
       "Figueroa High School         $615-645  \n",
       "Ford High School             $615-645  \n",
       "Griffin High School          $615-645  \n",
       "Hernandez High School        $645-675  \n",
       "Holden High School              <$585  \n",
       "Huang High School            $645-675  \n",
       "Johnson High School          $645-675  \n",
       "Pena High School             $585-615  \n",
       "Rodriguez High School        $615-645  \n",
       "Shelton High School          $585-615  \n",
       "Thomas High School           $615-645  \n",
       "Wilson High School              <$585  \n",
       "Wright High School              <$585  "
      ]
     },
     "execution_count": 211,
     "metadata": {},
     "output_type": "execute_result"
    }
   ],
   "source": [
    "# Create a new column to define the spending ranges per student\n",
    "def spending_ranges(x):\n",
    "    if x < 585 : \n",
    "        return group_names[0]\n",
    "    elif x >= 585 and x < 615:\n",
    "        return group_names[1]\n",
    "    elif x >= 615 and x < 645: \n",
    "        return group_names[2]\n",
    "    elif x >= 645 and x < 675:\n",
    "        return group_names[3]\n",
    "    else: \n",
    "        return group_names[4]\n",
    "summary['spending ranges'] = summary['budget per student'].map(spending_ranges)\n",
    "summary"
   ]
  },
  {
   "cell_type": "code",
   "execution_count": 218,
   "metadata": {},
   "outputs": [
    {
     "data": {
      "text/plain": [
       "spending ranges\n",
       "$585-615    83.599686\n",
       "<$585       83.455399\n",
       "$615-645    79.079225\n",
       "$645-675    76.997210\n",
       "Name: average math score, dtype: float64"
      ]
     },
     "execution_count": 218,
     "metadata": {},
     "output_type": "execute_result"
    }
   ],
   "source": [
    "# Calculate the average math score within each spending range\n",
    "summary.groupby('spending ranges')['average math score'].mean().sort_values(ascending=False)"
   ]
  },
  {
   "cell_type": "code",
   "execution_count": 219,
   "metadata": {},
   "outputs": [
    {
     "data": {
      "text/plain": [
       "spending ranges\n",
       "$585-615    94.230858\n",
       "<$585       93.460096\n",
       "$615-645    75.668212\n",
       "$645-675    66.164813\n",
       "Name: Math passing rate, dtype: float64"
      ]
     },
     "execution_count": 219,
     "metadata": {},
     "output_type": "execute_result"
    }
   ],
   "source": [
    "# Calculate the percentage passing rate for math in each spending range\n",
    "summary.groupby('spending ranges')['Math passing rate'].mean().sort_values(ascending=False)"
   ]
  },
  {
   "cell_type": "code",
   "execution_count": 220,
   "metadata": {},
   "outputs": [
    {
     "data": {
      "text/plain": [
       "spending ranges\n",
       "<$585       96.610877\n",
       "$585-615    95.900287\n",
       "$615-645    86.106569\n",
       "$645-675    81.133951\n",
       "Name: Reading passing rate, dtype: float64"
      ]
     },
     "execution_count": 220,
     "metadata": {},
     "output_type": "execute_result"
    }
   ],
   "source": [
    "# Calculate the percentage passing rate for reading in each spending range\n",
    "summary.groupby('spending ranges')['Reading passing rate'].mean().sort_values(ascending=False)"
   ]
  },
  {
   "cell_type": "code",
   "execution_count": 221,
   "metadata": {},
   "outputs": [
    {
     "data": {
      "text/plain": [
       "spending ranges\n",
       "$585-615    95.065572\n",
       "<$585       95.035486\n",
       "$615-645    80.887391\n",
       "$645-675    73.649382\n",
       "Name: Overall passing rate, dtype: float64"
      ]
     },
     "execution_count": 221,
     "metadata": {},
     "output_type": "execute_result"
    }
   ],
   "source": [
    "# Calculate the percentage overall passing rate in each spending range\n",
    "summary.groupby('spending ranges')['Overall passing rate'].mean().sort_values(ascending=False)"
   ]
  },
  {
   "cell_type": "markdown",
   "metadata": {},
   "source": [
    "### Scores by School Size"
   ]
  },
  {
   "cell_type": "markdown",
   "metadata": {},
   "source": [
    "* Perform the same operations as above, based on school size."
   ]
  },
  {
   "cell_type": "code",
   "execution_count": 223,
   "metadata": {},
   "outputs": [],
   "source": [
    "# Sample bins. Feel free to create your own bins.\n",
    "size_bins = [0, 1000, 2000, 5000]\n",
    "group_names = [\"Small (<1000)\", \"Medium (1000-2000)\", \"Large (2000-5000)\"]"
   ]
  },
  {
   "cell_type": "code",
   "execution_count": 226,
   "metadata": {
    "scrolled": true
   },
   "outputs": [],
   "source": [
    "# Create a new column for the bin groups\n",
    "school_data_complete['size_bins'] = pd.cut(school_data_complete['size'], size_bins, labels = group_names)\n",
    "size = school_data_complete.groupby('size_bins')"
   ]
  },
  {
   "cell_type": "markdown",
   "metadata": {},
   "source": [
    "Look for the total count of test scores that pass 70% or higher\n",
    "\n",
    "\n"
   ]
  },
  {
   "cell_type": "code",
   "execution_count": 228,
   "metadata": {},
   "outputs": [
    {
     "data": {
      "text/plain": [
       "size_bins\n",
       "Small (<1000)         0.939525\n",
       "Medium (1000-2000)    0.936165\n",
       "Large (2000-5000)     0.686524\n",
       "Name: Student ID, dtype: float64"
      ]
     },
     "execution_count": 228,
     "metadata": {},
     "output_type": "execute_result"
    }
   ],
   "source": [
    "# math_pass_size\n",
    "math_passing_size = school_data_complete[school_data_complete['math_score'] >= 70].groupby('size_bins')['Student ID'].count()/size['Student ID'].count()\n",
    "math_passing_size"
   ]
  },
  {
   "cell_type": "code",
   "execution_count": 234,
   "metadata": {},
   "outputs": [
    {
     "data": {
      "text/plain": [
       "size_bins\n",
       "Small (<1000)         0.960403\n",
       "Medium (1000-2000)    0.967731\n",
       "Large (2000-5000)     0.821252\n",
       "Name: Student ID, dtype: float64"
      ]
     },
     "execution_count": 234,
     "metadata": {},
     "output_type": "execute_result"
    }
   ],
   "source": [
    "# read_pass_size\n",
    "reading_passing_size = school_data_complete[school_data_complete['reading_score'] >= 70].groupby('size_bins')['Student ID'].count()/size['Student ID'].count()\n",
    "reading_passing_size"
   ]
  },
  {
   "cell_type": "code",
   "execution_count": 235,
   "metadata": {},
   "outputs": [
    {
     "data": {
      "text/plain": [
       "size_bins\n",
       "Small (<1000)         0.949964\n",
       "Medium (1000-2000)    0.951948\n",
       "Large (2000-5000)     0.753888\n",
       "Name: Student ID, dtype: float64"
      ]
     },
     "execution_count": 235,
     "metadata": {},
     "output_type": "execute_result"
    }
   ],
   "source": [
    "# Calculate the overall passing rate for different school size\n",
    "overall_passing_size = (math_passing_size+reading_passing_size)/2\n",
    "overall_passing_size"
   ]
  },
  {
   "cell_type": "markdown",
   "metadata": {},
   "source": [
    "### Scores by School Type"
   ]
  },
  {
   "cell_type": "markdown",
   "metadata": {},
   "source": [
    "* Perform the same operations as above, based on school type."
   ]
  },
  {
   "cell_type": "code",
   "execution_count": 260,
   "metadata": {},
   "outputs": [
    {
     "data": {
      "text/plain": [
       "<pandas.core.groupby.generic.DataFrameGroupBy object at 0x0000020475A09DC0>"
      ]
     },
     "execution_count": 260,
     "metadata": {},
     "output_type": "execute_result"
    }
   ],
   "source": [
    "# Create bins and groups, school type {'Charter', 'District'}\n",
    "school_type = school_data_complete.groupby(\"type\")"
   ]
  },
  {
   "cell_type": "markdown",
   "metadata": {},
   "source": [
    "Find counts of the passing 70 or higher score for the both test\n"
   ]
  },
  {
   "cell_type": "code",
   "execution_count": 265,
   "metadata": {},
   "outputs": [
    {
     "data": {
      "text/plain": [
       "type\n",
       "Charter     0.937018\n",
       "District    0.665184\n",
       "Name: Student ID, dtype: float64"
      ]
     },
     "execution_count": 265,
     "metadata": {},
     "output_type": "execute_result"
    }
   ],
   "source": [
    "# math pass size\n",
    "math = school_data_complete[school_data_complete['math_score'] >= 70].groupby('type')['Student ID'].count()/school_type['Student ID'].count()\n",
    "math"
   ]
  },
  {
   "cell_type": "code",
   "execution_count": 266,
   "metadata": {},
   "outputs": [
    {
     "data": {
      "text/plain": [
       "type\n",
       "Charter     0.966459\n",
       "District    0.809052\n",
       "Name: Student ID, dtype: float64"
      ]
     },
     "execution_count": 266,
     "metadata": {},
     "output_type": "execute_result"
    }
   ],
   "source": [
    "# reading pass size\n",
    "reading = school_data_complete[school_data_complete['reading_score'] >= 70].groupby('type')['Student ID'].count()/school_type['Student ID'].count()\n",
    "reading\n",
    "\n"
   ]
  },
  {
   "cell_type": "code",
   "execution_count": 267,
   "metadata": {},
   "outputs": [
    {
     "data": {
      "text/plain": [
       "type\n",
       "Charter     0.951739\n",
       "District    0.737118\n",
       "Name: Student ID, dtype: float64"
      ]
     },
     "execution_count": 267,
     "metadata": {},
     "output_type": "execute_result"
    }
   ],
   "source": [
    "# Calculate the overall passing rate\n",
    "overall = (math+reading)/2\n",
    "overall"
   ]
  },
  {
   "cell_type": "code",
   "execution_count": 271,
   "metadata": {},
   "outputs": [
    {
     "data": {
      "text/html": [
       "<div>\n",
       "<style scoped>\n",
       "    .dataframe tbody tr th:only-of-type {\n",
       "        vertical-align: middle;\n",
       "    }\n",
       "\n",
       "    .dataframe tbody tr th {\n",
       "        vertical-align: top;\n",
       "    }\n",
       "\n",
       "    .dataframe thead th {\n",
       "        text-align: right;\n",
       "    }\n",
       "</style>\n",
       "<table border=\"1\" class=\"dataframe\">\n",
       "  <thead>\n",
       "    <tr style=\"text-align: right;\">\n",
       "      <th></th>\n",
       "      <th>Passing Math Rate</th>\n",
       "      <th>Passing Reading Rate</th>\n",
       "      <th>Overall Passing Rate</th>\n",
       "    </tr>\n",
       "    <tr>\n",
       "      <th>type</th>\n",
       "      <th></th>\n",
       "      <th></th>\n",
       "      <th></th>\n",
       "    </tr>\n",
       "  </thead>\n",
       "  <tbody>\n",
       "    <tr>\n",
       "      <th>Charter</th>\n",
       "      <td>0.937018</td>\n",
       "      <td>0.966459</td>\n",
       "      <td>0.951739</td>\n",
       "    </tr>\n",
       "    <tr>\n",
       "      <th>District</th>\n",
       "      <td>0.665184</td>\n",
       "      <td>0.809052</td>\n",
       "      <td>0.737118</td>\n",
       "    </tr>\n",
       "  </tbody>\n",
       "</table>\n",
       "</div>"
      ],
      "text/plain": [
       "          Passing Math Rate  Passing Reading Rate  Overall Passing Rate\n",
       "type                                                                   \n",
       "Charter            0.937018              0.966459              0.951739\n",
       "District           0.665184              0.809052              0.737118"
      ]
     },
     "execution_count": 271,
     "metadata": {},
     "output_type": "execute_result"
    }
   ],
   "source": [
    "#data Frame\n",
    "data = pd.DataFrame({\n",
    "    'Passing Math Rate': math,\n",
    "    'Passing Reading Rate': reading,\n",
    "    \"Overall Passing Rate\": overall})\n",
    "data"
   ]
  }
 ],
 "metadata": {
  "anaconda-cloud": {},
  "kernel_info": {
   "name": "python3"
  },
  "kernelspec": {
   "display_name": "Python 3 (ipykernel)",
   "language": "python",
   "name": "python3"
  },
  "language_info": {
   "codemirror_mode": {
    "name": "ipython",
    "version": 3
   },
   "file_extension": ".py",
   "mimetype": "text/x-python",
   "name": "python",
   "nbconvert_exporter": "python",
   "pygments_lexer": "ipython3",
   "version": "3.9.12"
  },
  "latex_envs": {
   "LaTeX_envs_menu_present": true,
   "autoclose": false,
   "autocomplete": true,
   "bibliofile": "biblio.bib",
   "cite_by": "apalike",
   "current_citInitial": 1,
   "eqLabelWithNumbers": true,
   "eqNumInitial": 1,
   "hotkeys": {
    "equation": "Ctrl-E",
    "itemize": "Ctrl-I"
   },
   "labels_anchors": false,
   "latex_user_defs": false,
   "report_style_numbering": false,
   "user_envs_cfg": false
  },
  "nteract": {
   "version": "0.8.4"
  },
  "toc": {
   "base_numbering": 1,
   "nav_menu": {},
   "number_sections": true,
   "sideBar": true,
   "skip_h1_title": false,
   "title_cell": "Table of Contents",
   "title_sidebar": "Contents",
   "toc_cell": false,
   "toc_position": {},
   "toc_section_display": true,
   "toc_window_display": false
  }
 },
 "nbformat": 4,
 "nbformat_minor": 1
}
